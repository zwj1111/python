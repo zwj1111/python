{
 "cells": [
  {
   "cell_type": "markdown",
   "metadata": {},
   "source": [
    "# 更多字符串和特殊方法\n",
    "- 前面我们已经学了类，在Python中还有一些特殊的方法起着非常重要的作用，这里会介绍一些特殊的方法和运算符的重载，以及使用特殊方法设计类"
   ]
  },
  {
   "cell_type": "markdown",
   "metadata": {},
   "source": [
    "## str 类\n",
    "- 一个str对象是不可变的，也就是说，一旦创建了这个字符串，那么它的内容在认为不改变的情况下是不会变的\n",
    "- s1 = str()\n",
    "- s2 = str('welcome to Python')"
   ]
  },
  {
   "cell_type": "code",
   "execution_count": 1,
   "metadata": {},
   "outputs": [
    {
     "data": {
      "text/plain": [
       "str"
      ]
     },
     "execution_count": 1,
     "metadata": {},
     "output_type": "execute_result"
    }
   ],
   "source": [
    "a='Joker'\n",
    "type(a)"
   ]
  },
  {
   "cell_type": "code",
   "execution_count": 2,
   "metadata": {},
   "outputs": [
    {
     "data": {
      "text/plain": [
       "'100Tkker'"
      ]
     },
     "execution_count": 2,
     "metadata": {},
     "output_type": "execute_result"
    }
   ],
   "source": [
    "a=100\n",
    "b=str(a)\n",
    "b+'Tkker'"
   ]
  },
  {
   "cell_type": "markdown",
   "metadata": {},
   "source": [
    "## 创建两个对象，分别观察两者id\n",
    "- id为Python内存地址"
   ]
  },
  {
   "cell_type": "code",
   "execution_count": 3,
   "metadata": {},
   "outputs": [
    {
     "name": "stdout",
     "output_type": "stream",
     "text": [
      "140730896326560 140730896326560\n"
     ]
    }
   ],
   "source": [
    "a=100\n",
    "b=100\n",
    "print(id(a),id(b))"
   ]
  },
  {
   "cell_type": "code",
   "execution_count": 4,
   "metadata": {},
   "outputs": [
    {
     "data": {
      "text/plain": [
       "3"
      ]
     },
     "execution_count": 4,
     "metadata": {},
     "output_type": "execute_result"
    }
   ],
   "source": [
    "length=len('aaa')\n",
    "length#返回字符串的长度"
   ]
  },
  {
   "cell_type": "code",
   "execution_count": 5,
   "metadata": {},
   "outputs": [
    {
     "data": {
      "text/plain": [
       "False"
      ]
     },
     "execution_count": 5,
     "metadata": {},
     "output_type": "execute_result"
    }
   ],
   "source": [
    "a=len('aaa')\n",
    "b=len('bbbbb')#返回\n",
    "a==b"
   ]
  },
  {
   "cell_type": "code",
   "execution_count": 11,
   "metadata": {},
   "outputs": [
    {
     "data": {
      "text/plain": [
       "'J'"
      ]
     },
     "execution_count": 11,
     "metadata": {},
     "output_type": "execute_result"
    }
   ],
   "source": [
    "c='Joker'\n",
    "min(c)"
   ]
  },
  {
   "cell_type": "code",
   "execution_count": 12,
   "metadata": {},
   "outputs": [
    {
     "data": {
      "text/plain": [
       "'o'"
      ]
     },
     "execution_count": 12,
     "metadata": {},
     "output_type": "execute_result"
    }
   ],
   "source": [
    "c[1]#索引从零开始,不能超过字符串的长度"
   ]
  },
  {
   "cell_type": "code",
   "execution_count": 13,
   "metadata": {},
   "outputs": [
    {
     "data": {
      "text/plain": [
       "'r'"
      ]
     },
     "execution_count": 13,
     "metadata": {},
     "output_type": "execute_result"
    }
   ],
   "source": [
    "c[-1]"
   ]
  },
  {
   "cell_type": "code",
   "execution_count": 14,
   "metadata": {},
   "outputs": [
    {
     "data": {
      "text/plain": [
       "'r'"
      ]
     },
     "execution_count": 14,
     "metadata": {},
     "output_type": "execute_result"
    }
   ],
   "source": [
    "c[4]"
   ]
  },
  {
   "cell_type": "code",
   "execution_count": 15,
   "metadata": {},
   "outputs": [],
   "source": [
    "h='hh yhgg kjn'"
   ]
  },
  {
   "cell_type": "code",
   "execution_count": 16,
   "metadata": {},
   "outputs": [
    {
     "data": {
      "text/plain": [
       "'h'"
      ]
     },
     "execution_count": 16,
     "metadata": {},
     "output_type": "execute_result"
    }
   ],
   "source": [
    "h[4]"
   ]
  },
  {
   "cell_type": "code",
   "execution_count": 17,
   "metadata": {},
   "outputs": [
    {
     "data": {
      "text/plain": [
       "' '"
      ]
     },
     "execution_count": 17,
     "metadata": {},
     "output_type": "execute_result"
    }
   ],
   "source": [
    "h[-4]"
   ]
  },
  {
   "cell_type": "code",
   "execution_count": 8,
   "metadata": {},
   "outputs": [
    {
     "data": {
      "text/plain": [
       "'Shnj'"
      ]
     },
     "execution_count": 8,
     "metadata": {},
     "output_type": "execute_result"
    }
   ],
   "source": [
    "c='Shnj'\n",
    "b='UJnn'\n",
    "min(c,b)"
   ]
  },
  {
   "cell_type": "code",
   "execution_count": 18,
   "metadata": {},
   "outputs": [
    {
     "name": "stdout",
     "output_type": "stream",
     "text": [
      "J\n",
      "o\n",
      "k\n",
      "e\n",
      "r\n"
     ]
    }
   ],
   "source": [
    "for i in 'Joker':\n",
    "    print(i)"
   ]
  },
  {
   "cell_type": "code",
   "execution_count": 19,
   "metadata": {},
   "outputs": [
    {
     "name": "stdout",
     "output_type": "stream",
     "text": [
      "J\n",
      "o\n",
      "k\n",
      "e\n",
      "r\n"
     ]
    }
   ],
   "source": [
    "c='Joker'\n",
    "i=0\n",
    "while i<len(c):\n",
    "    print(c[i])\n",
    "    i=i+1\n",
    "    "
   ]
  },
  {
   "cell_type": "markdown",
   "metadata": {},
   "source": [
    "## 处理字符串的函数\n",
    "- len\n",
    "- max\n",
    "- min\n",
    "- 字符串一切是按照ASCII码值进行比较"
   ]
  },
  {
   "cell_type": "code",
   "execution_count": null,
   "metadata": {},
   "outputs": [],
   "source": [
    "with open(file=,moder='r') as f:\n",
    "    for i in range(1000):\n",
    "        line = f.read"
   ]
  },
  {
   "cell_type": "markdown",
   "metadata": {},
   "source": [
    "## 下角标运算符 []\n",
    "- 一个字符串是一个字符序列，可以通过索引进行访问\n",
    "- 观察字符串是否是一个可迭代序列  \\__iter__"
   ]
  },
  {
   "cell_type": "code",
   "execution_count": null,
   "metadata": {},
   "outputs": [],
   "source": []
  },
  {
   "cell_type": "markdown",
   "metadata": {},
   "source": [
    "## 切片 [start: end]\n",
    "- start 默认值为0\n",
    "- end 默认值为-1"
   ]
  },
  {
   "cell_type": "code",
   "execution_count": 22,
   "metadata": {},
   "outputs": [
    {
     "name": "stdout",
     "output_type": "stream",
     "text": [
      "15\n"
     ]
    },
    {
     "data": {
      "text/plain": [
       "'有一天'"
      ]
     },
     "execution_count": 22,
     "metadata": {},
     "output_type": "execute_result"
    }
   ],
   "source": [
    "a='有一天，陈贺变傻了,啊哈哈哈哈'\n",
    "print(len(a))\n",
    "a[0:3]"
   ]
  },
  {
   "cell_type": "code",
   "execution_count": 25,
   "metadata": {},
   "outputs": [
    {
     "data": {
      "text/plain": [
       "'有一天，陈贺变傻了,啊哈哈哈哈'"
      ]
     },
     "execution_count": 25,
     "metadata": {},
     "output_type": "execute_result"
    }
   ],
   "source": [
    "a[::]#a[0:25:1]"
   ]
  },
  {
   "cell_type": "code",
   "execution_count": 26,
   "metadata": {},
   "outputs": [
    {
     "data": {
      "text/plain": [
       "'哈哈哈哈啊,了傻变贺陈，天一有'"
      ]
     },
     "execution_count": 26,
     "metadata": {},
     "output_type": "execute_result"
    }
   ],
   "source": [
    "a[::-1]#[-25:0:-1]"
   ]
  },
  {
   "cell_type": "code",
   "execution_count": 24,
   "metadata": {},
   "outputs": [
    {
     "name": "stdout",
     "output_type": "stream",
     "text": [
      "15\n"
     ]
    },
    {
     "data": {
      "text/plain": [
       "'天一'"
      ]
     },
     "execution_count": 24,
     "metadata": {},
     "output_type": "execute_result"
    }
   ],
   "source": [
    "a='有一天，陈贺变傻了,啊哈哈哈哈'\n",
    "print(len(a))\n",
    "a[2:0:-1]"
   ]
  },
  {
   "cell_type": "code",
   "execution_count": null,
   "metadata": {},
   "outputs": [],
   "source": [
    "#和for loop 一样，如果步长为正，那么start，<end\n",
    "如果步长为负，那么start》end\n",
    "如果想让整体反转（左右），【：：-1】"
   ]
  },
  {
   "cell_type": "code",
   "execution_count": 27,
   "metadata": {},
   "outputs": [
    {
     "data": {
      "text/plain": [
       "'，天一'"
      ]
     },
     "execution_count": 27,
     "metadata": {},
     "output_type": "execute_result"
    }
   ],
   "source": [
    "a[1:4:1][::-1]"
   ]
  },
  {
   "cell_type": "code",
   "execution_count": 28,
   "metadata": {},
   "outputs": [
    {
     "data": {
      "text/plain": [
       "'一天，'"
      ]
     },
     "execution_count": 28,
     "metadata": {},
     "output_type": "execute_result"
    }
   ],
   "source": [
    "a[1:4:1]"
   ]
  },
  {
   "cell_type": "code",
   "execution_count": 31,
   "metadata": {},
   "outputs": [
    {
     "data": {
      "text/plain": [
       "'有天陈变了啊哈哈'"
      ]
     },
     "execution_count": 31,
     "metadata": {},
     "output_type": "execute_result"
    }
   ],
   "source": [
    "a[0:25:2]"
   ]
  },
  {
   "cell_type": "code",
   "execution_count": 10,
   "metadata": {},
   "outputs": [
    {
     "name": "stdout",
     "output_type": "stream",
     "text": [
      "kcqer@vip.qq.com\n",
      "\n",
      "4750082@qq.com\n",
      "\n",
      "beyond.w@qq.com\n",
      "\n",
      "326719610@qq.com\n",
      "\n",
      "326719610\n",
      "519203740@qq.com\n",
      "\n",
      "519203740\n",
      "41654522@.qq.com\n",
      "\n",
      "258109664@qq.com\n",
      "\n",
      "258109664\n",
      "www.372968559@qq.com\n",
      "\n",
      "690326585@qq.com\n",
      "\n",
      "690326585\n",
      "yilvwen@qq.com\n",
      "\n",
      "49524476@qq.com\n",
      "\n",
      "275141514@qq.com\n",
      "\n",
      "275141514\n",
      "77303043@qq.com\n",
      "\n",
      "yufeng5188@qq.com\n",
      "\n",
      "442852203@qq.com\n",
      "\n",
      "442852203\n",
      "350191363@qq.com\n",
      "\n",
      "350191363\n",
      "295088868@qq.com\n",
      "\n",
      "295088868\n",
      "279690888@qq.com\n",
      "\n",
      "279690888\n",
      "373017622@qq.com\n",
      "\n",
      "373017622\n",
      "349094820@qq.com\n",
      "\n",
      "349094820\n",
      "328184981@qq.com\n",
      "\n",
      "328184981\n",
      "bn922@qq.com\n",
      "\n",
      "457271598@qq.com\n",
      "\n",
      "457271598\n",
      "462743251@qq.com\n",
      "\n",
      "462743251\n",
      "349127247@qq.com\n",
      "\n",
      "349127247\n",
      "165279069@qq.com\n",
      "\n",
      "165279069\n",
      "hhhhhhddddddmmmmmm@qq.com\n",
      "\n",
      "385368599@qq.com\n",
      "\n",
      "385368599\n",
      "327449705@qq.com\n",
      "\n",
      "327449705\n",
      "245911391@qq.com\n",
      "\n",
      "245911391\n",
      "5952179@qq.com\n",
      "\n",
      "553434719@qq.com\n",
      "\n",
      "553434719\n",
      "154790981@qq.com\n",
      "\n",
      "154790981\n",
      "277054780@qq.com\n",
      "\n",
      "277054780\n",
      "5111719638@qq.com\n",
      "\n",
      "742807885@qq.com\n",
      "\n",
      "742807885\n",
      "651493465@qq.com\n",
      "\n",
      "651493465\n",
      "472935516@qq.com\n",
      "\n",
      "472935516\n",
      "270153221@qq.com\n",
      "\n",
      "270153221\n",
      "7433159@qq.com\n",
      "\n",
      "281131064@qq.com\n",
      "\n",
      "281131064\n",
      "78877314@qq.com\n",
      "\n",
      "352750777@qq.com\n",
      "\n",
      "352750777\n",
      "139615818@qq.com\n",
      "\n",
      "139615818\n",
      "404674604@qq.com\n",
      "\n",
      "404674604\n",
      "669505006@qq.com\n",
      "\n",
      "669505006\n",
      "654667355@qq.com\n",
      "\n",
      "654667355\n",
      "327814459@qq.com\n",
      "\n",
      "327814459\n",
      "929112005@qq.com\n",
      "\n",
      "929112005\n",
      "11000@qq.com\n",
      "\n",
      "895190322@qq.com\n",
      "\n",
      "895190322\n",
      "494084700@qq.com\n",
      "\n",
      "494084700\n",
      "huang296782020@qq.com\n",
      "\n",
      "2444731257@qq.com\n",
      "\n",
      "616085845@qq.com\n",
      "\n",
      "616085845\n",
      "545916109@qq.com\n",
      "\n",
      "545916109\n",
      "819663594@qq.com\n",
      "\n",
      "819663594\n",
      "p278283224@qq.com\n",
      "\n",
      "chenqi-caly@qq.com\n",
      "\n",
      "327332417@qq.com\n",
      "\n",
      "327332417\n",
      "345667776@qq.com\n",
      "\n",
      "345667776\n",
      "883533@qq.com\n",
      "\n",
      "287933625@qq.com\n",
      "\n",
      "287933625\n",
      "bezzhs@qq.com\n",
      "\n",
      "645291357@qq.com\n",
      "\n",
      "645291357\n",
      "397751852@qq.com\n",
      "\n",
      "397751852\n",
      "811437256@qq.com\n",
      "\n",
      "811437256\n",
      "350842318@qq.com\n",
      "\n",
      "350842318\n",
      "369463588@qq.com\n",
      "\n",
      "369463588\n",
      "262634151@qq.com\n",
      "\n",
      "262634151\n",
      "412478374@qq.com\n",
      "\n",
      "412478374\n",
      "294550353@qq.com\n",
      "\n",
      "294550353\n",
      "441905149@qq.com\n",
      "\n",
      "441905149\n",
      "111111@qq.com\n",
      "\n",
      "5101882@qq.com\n",
      "\n",
      "646611966@qq.com\n",
      "\n",
      "646611966\n",
      "53159134@qq.com\n",
      "\n",
      "420293073@qq.com\n",
      "\n",
      "420293073\n",
      "273039753@qq.com\n",
      "\n",
      "273039753\n",
      "906769956@qq.com\n",
      "\n",
      "906769956\n",
      "362922140@qq.com\n",
      "\n",
      "362922140\n",
      "370640248@qq.com\n",
      "\n",
      "370640248\n",
      "442555707@qq.com\n",
      "\n",
      "442555707\n",
      "284782523@qq.com\n",
      "\n",
      "284782523\n",
      "434777683@qq.com\n",
      "\n",
      "434777683\n",
      "www.wuxhwangfei@qq.com\n",
      "\n",
      "195777728@qq.com\n",
      "\n",
      "195777728\n",
      "55621187@qq.com\n",
      "\n",
      "6822783@qq.com\n",
      "\n",
      "gaven2005@qq.com\n",
      "\n",
      "gaven2005\n",
      "136886754@qq.com\n",
      "\n",
      "136886754\n",
      "964780391@qq.com\n",
      "\n",
      "964780391\n",
      "805021028@qq.com\n",
      "\n",
      "805021028\n",
      "673992339@qq.com\n",
      "\n",
      "673992339\n",
      "542757803@qq.com\n",
      "\n",
      "542757803\n",
      "88632094@qq.com\n",
      "\n",
      "285300892@qq.com\n",
      "\n",
      "285300892\n",
      "267853@qq.com\n",
      "\n",
      "279082878@qq.com\n",
      "\n",
      "279082878\n",
      "1053633239@qq.com\n",
      "\n",
      "421550662@qq.com\n",
      "\n",
      "421550662\n",
      "874603938@qq.com\n",
      "\n",
      "874603938\n",
      "7195485@qq.com\n",
      "\n",
      "57398090@qq.com\n",
      "\n",
      "3814999316@qq.com\n",
      "\n",
      "379699205@qq.com\n",
      "\n",
      "379699205\n",
      "345888324@qq.com\n",
      "\n",
      "345888324\n",
      "359795798@qq.com\n",
      "\n",
      "359795798\n",
      "14153883@qq.com\n",
      "\n",
      "534080117@qq.com\n",
      "\n",
      "534080117\n",
      "84572331@qq.com\n",
      "\n",
      "609481068@qq.com\n",
      "\n",
      "609481068\n",
      "280469268@qq.com\n",
      "\n",
      "280469268\n",
      "372748477@qq.com\n",
      "\n",
      "372748477\n",
      "529234962@qq.com\n",
      "\n",
      "529234962\n",
      "381274203@qq.com\n",
      "\n",
      "381274203\n",
      "273192670@qq.com\n",
      "\n",
      "273192670\n",
      "wingjokingliu@qq.com\n",
      "\n",
      "381411531@qq.com\n",
      "\n",
      "381411531\n",
      "173835671@qq.com\n",
      "\n",
      "173835671\n",
      "lifangmiao@vip.qq.com\n",
      "\n",
      "709538225@qq.com\n",
      "\n",
      "709538225\n",
      "164744460@qq.com\n",
      "\n",
      "164744460\n",
      "386936906@qq.com\n",
      "\n",
      "386936906\n",
      "270152141@qq.com\n",
      "\n",
      "270152141\n",
      "yangqian_6540@qq.com\n",
      "\n",
      "671145230@qq.com\n",
      "\n",
      "671145230\n",
      "260666622@qq.com\n",
      "\n",
      "260666622\n",
      "249182135@qq.com\n",
      "\n",
      "249182135\n",
      "978567526@qq.com\n",
      "\n",
      "978567526\n",
      "530452274@qq.com\n",
      "\n",
      "530452274\n",
      "503918221@qq.com\n",
      "\n",
      "503918221\n",
      "451772348@qq.com\n",
      "\n",
      "451772348\n",
      "lysbest888@qq.com\n",
      "\n",
      "136713731@qq.com\n",
      "\n",
      "136713731\n",
      "51620514@qq.com\n",
      "\n",
      "55780099@qq.com\n",
      "\n",
      "wh7353@qq.com\n",
      "\n",
      "755707606@qq.com\n",
      "\n",
      "755707606\n",
      "424466022@qq.com\n",
      "\n",
      "424466022\n",
      "datakgd@qq.com\n",
      "\n",
      "362729671@qq.com\n",
      "\n",
      "362729671\n",
      "732276554@qq.com\n",
      "\n",
      "732276554\n",
      "315429494@qq.com\n",
      "\n",
      "315429494\n",
      "514944216@qq.com\n",
      "\n",
      "514944216\n",
      "838997930@qq.com\n",
      "\n",
      "838997930\n",
      "zhao903@qq.com\n",
      "\n",
      "290037231@qq.com\n",
      "\n",
      "290037231\n",
      "262102316@qq.com\n",
      "\n",
      "262102316\n",
      "344458112@qq.com\n",
      "\n",
      "344458112\n",
      "312340060@qq.com\n",
      "\n",
      "312340060\n",
      "5349598@qq.com\n",
      "\n",
      "530785177@qqqq.com\n",
      "\n",
      "530785177\n",
      "251679682@qq.com\n",
      "\n",
      "251679682\n",
      "379736561@qq.com\n",
      "\n",
      "379736561\n",
      "263388942@qq.com\n",
      "\n",
      "263388942\n",
      "506596210@qq.com\n",
      "\n",
      "506596210\n",
      "444577251@qq.com\n",
      "\n",
      "444577251\n",
      "68419111@qq.com\n",
      "\n",
      "10459186@qq.com\n",
      "\n",
      "7534907@qq.com\n",
      "\n",
      "504846946@qq.com\n",
      "\n",
      "504846946\n",
      "106319986@qq.com\n",
      "\n",
      "106319986\n",
      "385774199@qq.com\n",
      "\n",
      "385774199\n",
      "435042136@qq.com\n",
      "\n",
      "435042136\n",
      "756987292@qq.com\n",
      "\n",
      "756987292\n",
      "539877326@qq.com\n",
      "\n",
      "539877326\n",
      "771591042@qq.com\n",
      "\n",
      "771591042\n",
      "107561490@qq.com\n",
      "\n",
      "107561490\n",
      "435341513@qq.com\n",
      "\n",
      "435341513\n",
      "12850793@qq.com\n",
      "\n",
      "122663500@qq.com\n",
      "\n",
      "122663500\n",
      "525465605@qq.com\n",
      "\n",
      "525465605\n",
      "38563172@qq.com\n",
      "\n",
      "625212968@qq.com\n",
      "\n",
      "625212968\n",
      "463514745@qq.com\n",
      "\n",
      "463514745\n",
      "695450917@qq.com\n",
      "\n",
      "695450917\n",
      "332193582@qq.com\n",
      "\n",
      "332193582\n",
      "262262673@qq.com\n",
      "\n",
      "262262673\n",
      "315004809@qq.com\n",
      "\n",
      "315004809\n",
      "czhcool@qq.com\n",
      "\n",
      "303667703@qq.com\n",
      "\n",
      "303667703\n",
      "zhiqiang118@vip.qq.com\n",
      "\n",
      "lyx397150@qq.com\n",
      "\n",
      "lyx397150\n",
      "285743078@qq.com\n",
      "\n",
      "285743078\n",
      "neo7@vip.qq.com\n",
      "\n",
      "364684778@qq.com\n",
      "\n",
      "364684778\n",
      "724207000@qq.com\n",
      "\n",
      "724207000\n",
      "taoxuehai@qq.com\n",
      "\n",
      "taoxuehai\n",
      "43249086@qq.com\n",
      "\n",
      "gf.163@qq.com\n",
      "\n",
      "460780222@qq.com\n",
      "\n",
      "460780222\n",
      "22086465@qq.com\n",
      "\n",
      "351441980@qq.com\n",
      "\n",
      "351441980\n",
      "52738130@qq.com\n",
      "\n",
      "526238593@qq.com\n",
      "\n",
      "526238593\n",
      "183995222@qq.com\n",
      "\n",
      "183995222\n",
      "394816921@qq.com\n",
      "\n",
      "394816921\n",
      "820377226@.qq.com\n",
      "\n",
      "820377226\n",
      "382931699@qq.com\n",
      "\n",
      "382931699\n",
      "965508979@qq.com\n",
      "\n",
      "965508979\n",
      "1064320261@qq.com\n",
      "\n",
      "710071716@qq.com\n",
      "\n",
      "710071716\n",
      "406702526@qq.com\n",
      "\n",
      "406702526\n",
      "vkbshfm@qq.com\n",
      "\n",
      "105333196@qq.com\n",
      "\n",
      "105333196\n",
      "442551936@qq.com\n",
      "\n",
      "442551936\n",
      "459070989@qq.com\n",
      "\n",
      "459070989\n",
      "1011337090@qq.com\n",
      "\n",
      "410808398@qq.com\n",
      "\n",
      "410808398\n",
      "jiachaochao@qq.com\n",
      "\n",
      "anwen_1120@qq.com\n",
      "\n",
      "515336786@qq.com\n",
      "\n",
      "515336786\n",
      "z2846663@qq.com\n",
      "\n",
      "www.289276218@qq.com\n",
      "\n",
      "619757675@qq.com\n",
      "\n",
      "619757675\n",
      "xmlovest3344@vip.qq.com\n",
      "\n",
      "737609396@qq.com\n",
      "\n",
      "737609396\n",
      "hyzq@qq.com\n",
      "\n",
      "443217816r@qq.com\n",
      "\n",
      "980708687@qq.com\n",
      "\n",
      "980708687\n",
      "157607392@qq.com\n",
      "\n",
      "157607392\n",
      "356313509@qq.com\n",
      "\n",
      "356313509\n",
      "50539892@qq.com\n",
      "\n",
      "170920940@qq.com\n",
      "\n",
      "170920940\n",
      "www.532821866@qq.com\n",
      "\n",
      "853316609@qq.com\n",
      "\n",
      "853316609\n",
      "66513107@qq.com\n",
      "\n",
      "sinianlianren198@qq.com\n",
      "\n",
      "652004084@qq.com\n",
      "\n",
      "652004084\n",
      "www.350260559@qq.com\n",
      "\n",
      "121402043@qq.com\n",
      "\n",
      "121402043\n",
      "xiaoxi08@vip.qq.com\n",
      "\n",
      "609991609@qq.com\n",
      "\n",
      "609991609\n",
      "495045498@qq.com\n",
      "\n",
      "495045498\n",
      "tqying@qq.com\n",
      "\n",
      "344633769@qq.com\n",
      "\n",
      "344633769\n",
      "331876155@qq.com\n",
      "\n",
      "331876155\n",
      "331944006@qq.com\n",
      "\n",
      "331944006\n",
      "416152950@qq.com\n",
      "\n",
      "416152950\n",
      "pengpeng_174007292@qq.com\n",
      "\n",
      "532735556@.qq.com\n",
      "\n",
      "532735556\n",
      "5664148156@qq.com\n",
      "\n",
      "769378021@qq.com\n",
      "\n",
      "769378021\n",
      "656549498@qq.com\n",
      "\n",
      "656549498\n",
      "510356691@qq.com\n",
      "\n",
      "510356691\n",
      "9884401@qq.com\n",
      "\n",
      "421387046@qq.com\n",
      "\n",
      "421387046\n",
      "645316407@qq.com\n",
      "\n",
      "645316407\n",
      "529288874@qq.com\n",
      "\n",
      "529288874\n",
      "50950699@qq.com\n",
      "\n",
      "503476027@qq.com\n",
      "\n",
      "503476027\n",
      "285867288@qq.com\n",
      "\n",
      "285867288\n",
      "164905533@qq.com\n",
      "\n",
      "164905533\n",
      "757923249@qq.com\n",
      "\n",
      "757923249\n",
      "tenQQ@qq.com\n",
      "\n",
      "182268431@qq.com\n",
      "\n",
      "182268431\n",
      "893254058@qq.com\n",
      "\n",
      "893254058\n",
      "332763623@qq.com\n",
      "\n",
      "332763623\n",
      "xuanbao105@vip.qq.com\n",
      "\n",
      "534831706@qq.com\n",
      "\n",
      "534831706\n",
      "songntex@qq.com\n",
      "\n",
      "947128908@qq.com\n",
      "\n",
      "947128908\n",
      "232411914@qq.com\n",
      "\n",
      "232411914\n",
      "512496087@qq.com\n",
      "\n",
      "512496087\n",
      "307892816@qq.com\n",
      "\n",
      "307892816\n",
      "258917206@qq.com\n",
      "\n",
      "258917206\n",
      "532079535@qq.com\n",
      "\n",
      "532079535\n",
      "29846851@qq.com\n",
      "\n",
      "jansonjj@qq.com\n",
      "\n",
      "695959148@qq.com\n",
      "\n",
      "695959148\n",
      "anshan7@qq.com\n",
      "\n",
      "275122717@qq.com\n",
      "\n",
      "275122717\n",
      "331037772@qq.com\n",
      "\n",
      "331037772\n",
      "290638015@qq.com\n",
      "\n",
      "290638015\n",
      "2659529@qq.com\n",
      "\n",
      "532220793@qq.com\n",
      "\n",
      "532220793\n",
      "373757198@qq.com\n",
      "\n",
      "373757198\n",
      "241525881@qq.com\n",
      "\n",
      "241525881\n",
      "39061872@qq.com\n",
      "\n",
      "769867223@qq.com\n",
      "\n",
      "769867223\n",
      "370646337@qq.com\n",
      "\n",
      "370646337\n",
      "289733254@.qq.com\n",
      "\n",
      "289733254\n",
      "281490538@qq.com\n",
      "\n",
      "281490538\n",
      "14738840@qq.com\n",
      "\n",
      "524425881@qq.com\n",
      "\n",
      "524425881\n",
      "240513077@qq.com\n",
      "\n",
      "240513077\n",
      "79919805@qq.com\n",
      "\n",
      "34461569@qq.com\n",
      "\n",
      "569957350@qq.com\n",
      "\n",
      "569957350\n",
      "401161209@qq.com\n",
      "\n",
      "401161209\n",
      "562427718@qq.com\n",
      "\n",
      "562427718\n",
      "465414753@qq.com\n",
      "\n",
      "465414753\n",
      "251280787@qq.com\n",
      "\n",
      "251280787\n",
      "1054733780@qq.com\n",
      "\n",
      "lidonglove8412@qq.com\n",
      "\n",
      "346261749@qq.com\n",
      "\n",
      "346261749\n",
      "24088599@qq.com\n",
      "\n",
      "372656058@qq.com\n",
      "\n",
      "372656058\n",
      "303917882@qq.com\n",
      "\n",
      "303917882\n",
      "246103194@qq.com\n",
      "\n",
      "246103194\n",
      "358009371@qq.com\n",
      "\n",
      "358009371\n",
      "jiw23@qq.com\n",
      "\n",
      "34781583@qq.com\n",
      "\n",
      "479243750@qq.com\n",
      "\n",
      "479243750\n",
      "250360642@qq.com\n",
      "\n",
      "250360642\n",
      "37401117@qq.com\n",
      "\n",
      "65464@qq.com\n",
      "\n",
      "469771823@qq.com\n",
      "\n",
      "469771823\n",
      "406516900@qq.com\n",
      "\n",
      "406516900\n",
      "335040770@qq.com\n",
      "\n",
      "335040770\n",
      "349344946@qq.com\n",
      "\n",
      "349344946\n",
      "76806413@qq.com\n",
      "\n",
      "360338405@qq.com\n",
      "\n",
      "360338405\n",
      "459201853@qq.com\n",
      "\n",
      "459201853\n",
      "188171417@qq.com\n",
      "\n",
      "188171417\n",
      "tiger0823@qq.com\n",
      "\n",
      "tiger0823\n",
      "594548776@qq.com\n",
      "\n",
      "594548776\n",
      "195436209@qq.com\n",
      "\n",
      "195436209\n",
      "376051057@qq.com\n",
      "\n",
      "376051057\n",
      "max74@qq.com\n",
      "\n",
      "914989718@qq.com\n",
      "\n",
      "914989718\n",
      "26831195@qq.com\n",
      "\n",
      "356829842@qq.com\n",
      "\n",
      "356829842\n",
      "313770901@qq.com\n",
      "\n",
      "313770901\n",
      "dse@qq.com\n",
      "\n",
      "326574091@qq.com\n",
      "\n",
      "326574091\n",
      "361581083@qq.com\n",
      "\n",
      "361581083\n",
      "515824209@qq.com\n",
      "\n",
      "515824209\n",
      "289231933@qq.com\n",
      "\n",
      "289231933\n",
      "405687247@qq.com\n",
      "\n",
      "405687247\n",
      "381817297@qq.com\n",
      "\n",
      "381817297\n",
      "714374793@qq.com\n",
      "\n",
      "714374793\n",
      "857722682@qq.com\n",
      "\n",
      "857722682\n",
      "920412138@qq.com\n",
      "\n",
      "920412138\n",
      "385733304@qq.com\n",
      "\n",
      "385733304\n",
      "307581238@qq.com\n",
      "\n",
      "307581238\n",
      "511485895@qq.com\n",
      "\n",
      "511485895\n",
      "314090211@qq.com\n",
      "\n",
      "314090211\n",
      "43302092@qq.com\n",
      "\n",
      "308217926@qq.com\n",
      "\n",
      "308217926\n",
      "122304714@qq.com\n",
      "\n",
      "122304714\n",
      "908779773@qq.com\n",
      "\n",
      "908779773\n",
      "449105617@qq.com\n",
      "\n",
      "449105617\n",
      "262945677@qq.com\n",
      "\n",
      "262945677\n",
      "375204531@qq.com\n",
      "\n",
      "375204531\n",
      "969838563@qq.com\n",
      "\n",
      "969838563\n",
      "598949018@qq.com\n",
      "\n",
      "598949018\n",
      "855830@qq.com\n",
      "\n",
      "332633819@qq.com\n",
      "\n",
      "332633819\n",
      "510098495@qq.com\n",
      "\n",
      "510098495\n",
      "383634114@qq.com\n",
      "\n",
      "383634114\n",
      "56198714@qq.com\n",
      "\n",
      "472663566@qq.com\n",
      "\n",
      "472663566\n",
      "181729393@qq.com\n",
      "\n",
      "181729393\n",
      "869356868@qq.com\n",
      "\n",
      "869356868\n",
      "85279083@qq.com\n",
      "\n",
      "385681036@qq.com\n",
      "\n",
      "385681036\n",
      "407178814@qq.com\n",
      "\n",
      "407178814\n",
      "lzh327242133@qq.com\n",
      "\n",
      "282393629@qq.com\n",
      "\n",
      "282393629\n",
      "quan-800@qq.com\n",
      "\n",
      "346963213@qq.com\n",
      "\n",
      "346963213\n",
      "357485233@qq.com\n",
      "\n",
      "357485233\n",
      "conglin66@qq.com\n",
      "\n",
      "conglin66\n",
      "124183777@qq.com\n",
      "\n",
      "124183777\n",
      "359786341@qq.com\n",
      "\n",
      "359786341\n",
      "weiailei1987@qq.com\n",
      "\n",
      "252343460@qq.com\n",
      "\n",
      "252343460\n",
      "poniard@qq.com\n",
      "\n",
      "zouyu930817@qq.com\n",
      "\n",
      "1035368111@qq.com\n",
      "\n",
      "340639885@qq.com\n",
      "\n",
      "340639885\n",
      "mimi84503808@qq.com\n",
      "\n",
      "why681116@vip.qq.com\n",
      "\n",
      "why681116\n",
      "kuaile380503174@qq.com\n",
      "\n",
      "251277002@qq.com\n",
      "\n",
      "251277002\n",
      "kingzhou38@qq.com\n",
      "\n",
      "873807917@.qq.com\n",
      "\n",
      "873807917\n",
      "sui3528195@qq.com\n",
      "\n",
      "512048194@qq.com\n",
      "\n",
      "512048194\n",
      "lidongasw@qq.com\n",
      "\n",
      "lidongasw\n",
      "yiminaaa@163qq.com\n",
      "\n",
      "718389859@qq.com\n",
      "\n",
      "718389859\n",
      "233065172@qq.com\n",
      "\n",
      "233065172\n",
      "80489812@qq.com\n",
      "\n",
      "398378117@qq.com\n",
      "\n",
      "398378117\n",
      "605254169@qq.com\n",
      "\n",
      "605254169\n",
      "408192936@qq.com\n",
      "\n",
      "408192936\n",
      "412259079@qq.com\n",
      "\n",
      "412259079\n",
      "895874055@qq.com\n",
      "\n",
      "895874055\n",
      "850319490@qq.com\n",
      "\n",
      "850319490\n",
      "52016662@qq.com\n",
      "\n",
      "biao7315858@qq.com\n",
      "\n",
      "151427286@qq.com\n",
      "\n",
      "151427286\n",
      "498127082@qq.com\n",
      "\n",
      "498127082\n",
      "418219902@qq.com\n",
      "\n",
      "418219902\n",
      "411327681@qq.com\n",
      "\n",
      "411327681\n",
      "693166285@qq.com\n",
      "\n",
      "693166285\n",
      "310226429@qq.com\n",
      "\n",
      "310226429\n",
      "649171178@qq.com\n",
      "\n",
      "649171178\n",
      "251106993@qq.com\n",
      "\n",
      "251106993\n",
      "304796286@qq.com\n",
      "\n",
      "304796286\n",
      "mayi0625@qq.com\n",
      "\n",
      "184703010@qq.com\n",
      "\n",
      "184703010\n",
      "feigechuanshuo168@qq.com\n",
      "\n",
      "340185983@qq.com\n",
      "\n",
      "340185983\n",
      "32480043@qq.com\n",
      "\n",
      "27849570@qq.com\n",
      "\n",
      "349039144@qq.com\n",
      "\n",
      "349039144\n",
      "690699097@qq.com\n",
      "\n",
      "690699097\n",
      "406836845@qq.com\n",
      "\n",
      "406836845\n",
      "337404915@qq.com\n",
      "\n",
      "337404915\n",
      "309668784@qq.com\n",
      "\n",
      "309668784\n",
      "82624616@qq.com\n",
      "\n",
      "214804531@qq.com\n",
      "\n",
      "214804531\n",
      "364301296@qq.com\n",
      "\n",
      "364301296\n",
      "122231438@qq.com\n",
      "\n",
      "122231438\n",
      "260770434@qq.com\n",
      "\n",
      "260770434\n",
      "335243148@qq.com\n",
      "\n",
      "335243148\n",
      "596077660@qq.com\n",
      "\n",
      "596077660\n",
      "kpc_296@qq.com\n",
      "\n",
      "743604961@qq.com\n",
      "\n",
      "743604961\n",
      "4656464@qq.com\n",
      "\n",
      "345761555@qq.com\n",
      "\n",
      "345761555\n",
      "838925010@qq.com\n",
      "\n",
      "838925010\n",
      "721446446@qq.com\n",
      "\n",
      "721446446\n",
      "414333820@qq.com\n",
      "\n",
      "414333820\n",
      "qianyunxiang1981@qq.com\n",
      "\n",
      "361266373@qq.com\n",
      "\n",
      "361266373\n",
      "59027445@qq.com\n",
      "\n",
      "vivid7750@qq.com\n",
      "\n",
      "vivid7750\n",
      "417658669@qq.com\n",
      "\n",
      "417658669\n",
      "fys8@qq.com\n",
      "\n",
      "507260953@qq.com\n",
      "\n",
      "507260953\n",
      "774720231@qq.com\n",
      "\n",
      "774720231\n",
      "121191460@qq.com\n",
      "\n",
      "121191460\n",
      "261026019@qq.com\n",
      "\n",
      "261026019\n",
      "fish393650828@qq.com\n",
      "\n",
      "auch@qq.com\n",
      "\n",
      "www.389635229@qq.com\n",
      "\n",
      "172489277@qq.com\n",
      "\n",
      "172489277\n",
      "270735046@qq.com\n",
      "\n",
      "270735046\n",
      "296979242@qq.com\n",
      "\n",
      "296979242\n",
      "125673775@qq.com\n",
      "\n",
      "125673775\n",
      "181228271@qq.com\n",
      "\n",
      "181228271\n",
      "www.shatangguozi@qq.com\n",
      "\n",
      "592775248@qq.com\n",
      "\n",
      "592775248\n",
      "253107462@qq.com\n",
      "\n",
      "253107462\n",
      "694717186@qq.com\n",
      "\n",
      "694717186\n",
      "371886615@qq.com\n",
      "\n",
      "371886615\n",
      "54154545@qq.com\n",
      "\n",
      "417135509@qq.com\n",
      "\n",
      "417135509\n",
      "416649624@qq.com\n",
      "\n",
      "416649624\n",
      "379084394@qq.com\n",
      "\n",
      "379084394\n",
      "274002559@qq.com\n",
      "\n",
      "274002559\n",
      "55555@qq.com\n",
      "\n",
      "583417996@qq.com\n",
      "\n",
      "583417996\n",
      "454731008@qq.com\n",
      "\n",
      "454731008\n",
      "278224342@qq.com\n",
      "\n",
      "278224342\n",
      "lvmuhan@qq.com\n",
      "\n",
      "850764203@qq.com\n",
      "\n",
      "850764203\n",
      "784466517@qq.com\n",
      "\n",
      "784466517\n",
      "371545070@qq.com\n",
      "\n",
      "371545070\n",
      "445909643@qq.com\n",
      "\n",
      "445909643\n",
      "774660057@qq.com\n",
      "\n",
      "774660057\n",
      "1010349796@qq.com\n",
      "\n",
      "jf99@qq.com\n",
      "\n",
      "372395504@qq.com\n",
      "\n",
      "372395504\n",
      "zhuangsouzhu@qq.com\n",
      "\n",
      "138896264@qq.com\n",
      "\n",
      "138896264\n",
      "154433684@qq.com\n",
      "\n",
      "154433684\n",
      "104890168@qq.com\n",
      "\n",
      "104890168\n",
      "627289873@qq.com\n",
      "\n",
      "627289873\n",
      "a8901430@qq.com\n",
      "\n",
      "87332511@qq.com\n",
      "\n",
      "359629599@qq.com\n",
      "\n",
      "359629599\n",
      "fengzaichuilangzai@qq.com\n",
      "\n",
      "382992271@qq.com\n",
      "\n",
      "382992271\n",
      "icecoveredmoon@qq.com\n",
      "\n",
      "8174813@qq.com\n",
      "\n",
      "472918240@qq.com\n",
      "\n",
      "472918240\n",
      "271450352@qq.com\n",
      "\n",
      "271450352\n",
      "379824312@qq.com\n",
      "\n",
      "379824312\n",
      "429589159@qq.com\n",
      "\n",
      "429589159\n",
      "303104409@qq.com\n",
      "\n",
      "303104409\n",
      "louis27@qq.com\n",
      "\n",
      "372132833@qq.com\n",
      "\n",
      "372132833\n",
      "cjbzhuaibing520@qq.com\n",
      "\n",
      "946682926@qq.com\n",
      "\n",
      "946682926\n",
      "809428173@qq.com\n",
      "\n",
      "809428173\n",
      "526045556@qq.com\n",
      "\n",
      "526045556\n",
      "274363309@qq.com\n",
      "\n",
      "274363309\n",
      "417617628@qq.com\n",
      "\n",
      "417617628\n",
      "442078071@qq.com\n",
      "\n",
      "442078071\n",
      "513534127@qq.com\n",
      "\n",
      "513534127\n",
      "justinlo_0198@qq.com\n",
      "\n",
      "631546728@qq.com\n",
      "\n",
      "631546728\n",
      "dingbiao521@qq.com\n",
      "\n",
      "314544941@qq.com\n",
      "\n",
      "314544941\n",
      "327511948@qq.com\n",
      "\n",
      "327511948\n",
      "61606713@qq.com\n",
      "\n",
      "51733970@qq.com\n",
      "\n",
      "94437880@qq.com\n",
      "\n",
      "422747@qq.com\n",
      "\n",
      "kobe443877230@qq.com\n",
      "\n",
      "463310752@qq.com\n",
      "\n",
      "463310752\n",
      "853528797@qq.com\n",
      "\n",
      "853528797\n",
      "270068655@qq.com\n",
      "\n",
      "270068655\n",
      "348476549889@qq.com\n",
      "\n",
      "751345@qq.com\n",
      "\n",
      "www.54304227@qq.com\n",
      "\n",
      "419350405@qq.com\n",
      "\n",
      "419350405\n",
      "2947479@qq.com\n",
      "\n",
      "248722665@qq.com\n",
      "\n",
      "248722665\n",
      "4564211@qq.com\n",
      "\n",
      "343372562@qq.com\n",
      "\n",
      "343372562\n",
      "361921846@qq.com\n",
      "\n",
      "361921846\n",
      "120509355@qq.com\n",
      "\n",
      "120509355\n",
      "120415323@qq.com\n",
      "\n",
      "120415323\n",
      "nthj1973@qq.com\n",
      "\n",
      "82929720@qq.com\n",
      "\n",
      "497358772@qq.com\n",
      "\n",
      "497358772\n",
      "471427981@qq.com\n",
      "\n",
      "471427981\n",
      "634226457@qq.com\n",
      "\n",
      "634226457\n",
      "676913855@qq.com\n",
      "\n",
      "676913855\n",
      "445634514@qq.com\n",
      "\n",
      "445634514\n",
      "258117324@qq.com\n",
      "\n",
      "258117324\n",
      "www.470231529@qq.com\n",
      "\n",
      "49922894@qq.com\n",
      "\n",
      "425318677@qq.com\n",
      "\n",
      "425318677\n",
      "402830736@qq.com\n",
      "\n",
      "402830736\n",
      "350234147@qq.com\n",
      "\n",
      "350234147\n",
      "550546824@qq.com\n",
      "\n",
      "550546824\n",
      "377424892@qq.com\n",
      "\n",
      "377424892\n",
      "30511360@qq.com\n",
      "\n",
      "284062174@qq.com\n",
      "\n",
      "284062174\n",
      "505910378@qq.com\n",
      "\n",
      "505910378\n",
      "181402929@qq.com\n",
      "\n",
      "181402929\n",
      "441525933@qq.com\n",
      "\n",
      "441525933\n",
      "906502971@qq.com\n",
      "\n",
      "906502971\n",
      "183933870@qq.com\n",
      "\n",
      "183933870\n",
      "spider_12@qq.com\n",
      "\n",
      "spider_12\n",
      "920146829@qq.com\n",
      "\n",
      "920146829\n",
      "438670593@qq.com\n",
      "\n",
      "438670593\n",
      "346974694@qq.com\n",
      "\n",
      "346974694\n",
      "smqa@qq.com\n",
      "\n",
      "690860456@qq.com\n",
      "\n",
      "690860456\n",
      "26805629@qq.com\n",
      "\n",
      "6318006@qq.com\n",
      "\n",
      "huangzebo999@vip.qq.com\n",
      "\n",
      "3270@qq.com\n",
      "\n",
      "664760916@qq.com\n",
      "\n",
      "664760916\n",
      "715859565@qq.com\n",
      "\n",
      "715859565\n",
      "844987961@qq.com\n",
      "\n",
      "844987961\n",
      "183108615@qq.com\n",
      "\n",
      "183108615\n",
      "250474777@qq.com\n",
      "\n",
      "250474777\n",
      "294852488@qq.com\n",
      "\n",
      "294852488\n",
      "402398900@qq.com\n",
      "\n",
      "402398900\n",
      "555866658@qq.com\n",
      "\n",
      "555866658\n",
      "iamadorcter@qq.com\n",
      "\n",
      "584506405@qq.com\n",
      "\n",
      "584506405\n",
      "491675832@qq.com\n",
      "\n",
      "491675832\n",
      "342547957@qq.com\n",
      "\n",
      "342547957\n",
      "772901866@qq.com\n",
      "\n",
      "772901866\n",
      "48195540@qq.com\n",
      "\n",
      "zhaoqianshuenli@qq.com\n",
      "\n",
      "438101320@qq.com\n",
      "\n",
      "438101320\n",
      "517863666@qq.com\n",
      "\n",
      "517863666\n",
      "20001156@qq.com\n",
      "\n",
      "316874969@qq.com\n",
      "\n",
      "316874969\n",
      "470909861@qq.com\n",
      "\n",
      "470909861\n",
      "June_10@qq.com\n",
      "\n",
      "lcxl1028@qq.com\n",
      "\n",
      "lw45j@qq.com\n",
      "\n",
      "123456@qq.com\n",
      "\n",
      "378120405@qq.com\n",
      "\n",
      "378120405\n",
      "zhangluchen@qq.com\n",
      "\n",
      "13217363@qq.com\n",
      "\n",
      "597099510@qq.com\n",
      "\n",
      "597099510\n",
      "315861225@qq.com\n",
      "\n",
      "315861225\n",
      "124120307@qq.com\n",
      "\n",
      "124120307\n",
      "pengjj2@qq.com\n",
      "\n",
      "262140029@qq.com\n",
      "\n",
      "262140029\n",
      "469466053@qq.com\n",
      "\n",
      "469466053\n",
      "1718908@qq.com\n",
      "\n",
      "649227826@qq.com\n",
      "\n",
      "649227826\n",
      "270915063@qq.com\n",
      "\n",
      "270915063\n",
      "247215098@qq.com\n",
      "\n",
      "247215098\n",
      "308088483@qq.com\n",
      "\n",
      "308088483\n",
      "623375376@qq.com\n",
      "\n",
      "623375376\n",
      "100890419@qq.com\n",
      "\n",
      "100890419\n",
      "714851725.@qq.com\n",
      "\n",
      "273310824@qq.com\n",
      "\n",
      "273310824\n",
      "420177249@qq.com\n",
      "\n",
      "420177249\n",
      "157213341@qq.com\n",
      "\n",
      "157213341\n",
      "yan_283018604@qq.com\n",
      "\n",
      "100201291@qq.com\n",
      "\n",
      "100201291\n",
      "7566239552@qq.com\n",
      "\n",
      "231686572@qq.com\n",
      "\n",
      "231686572\n",
      "366040520@qq.com.cn\n",
      "\n",
      "366040520\n",
      "weiwu_my@qq.com\n",
      "\n",
      "363841288@qq.com\n",
      "\n",
      "363841288\n",
      "107780198@qq.com\n",
      "\n",
      "107780198\n",
      "8733343@qq.com\n",
      "\n",
      "864216188@qq.com\n",
      "\n",
      "864216188\n",
      "584297235@qq.com\n",
      "\n",
      "584297235\n",
      "www.964207136@qq.com\n",
      "\n",
      "460061618@qq.com\n",
      "\n",
      "460061618\n",
      "461000424@qq.com\n",
      "\n",
      "461000424\n",
      "674076011@qq.com\n",
      "\n",
      "674076011\n",
      "457677144@qq.com\n",
      "\n",
      "457677144\n",
      "272764771@qq.com\n",
      "\n",
      "272764771\n",
      "330661997@qq.com\n",
      "\n",
      "330661997\n",
      "a262758313@qq.com\n",
      "\n",
      "526260528@qq.com\n",
      "\n",
      "526260528\n",
      "57320667@qq.com\n",
      "\n",
      "546149277@qq.com\n",
      "\n",
      "546149277\n",
      "2438375626@qq.com\n",
      "\n",
      "1065693111@qq.com\n",
      "\n",
      "383941745@qq.com\n",
      "\n",
      "383941745\n",
      "371988459@qq.com\n",
      "\n",
      "371988459\n",
      "624247670@qq.com\n",
      "\n",
      "624247670\n",
      "452062460@qq.com\n",
      "\n",
      "452062460\n",
      "461231159@qq.com\n",
      "\n",
      "461231159\n",
      "470286643@qq.com\n",
      "\n",
      "470286643\n",
      "www.344840477@qq.com\n",
      "\n",
      "359157246@qq.com\n",
      "\n",
      "359157246\n",
      "shlikixuan@qq.com\n",
      "\n",
      "wangzhongbao123@vip.qq.com\n",
      "\n",
      "372717855@qq.com\n",
      "\n",
      "372717855\n",
      "6158153@qq.com\n",
      "\n",
      "179742067@qq.com\n",
      "\n",
      "179742067\n",
      "78981277@qq.com\n",
      "\n",
      "464598142@qq.com\n",
      "\n",
      "464598142\n",
      "kjkjjkkkk@qq.com\n",
      "\n",
      "kjkjjkkkk\n",
      "416791152@qq.com\n",
      "\n",
      "416791152\n",
      "625039021@qq.com\n",
      "\n",
      "625039021\n",
      "404282573@qq.com\n",
      "\n",
      "404282573\n",
      "sunjiashi@vip.qq.com\n",
      "\n",
      "sunjiashi\n",
      "540175660@qq.com\n",
      "\n",
      "540175660\n",
      "673424902@qq.com\n",
      "\n",
      "673424902\n",
      "20698578@qq.com\n",
      "\n",
      "445021783@qq.com\n",
      "\n",
      "445021783\n",
      "619367467@qq.com\n",
      "\n",
      "619367467\n",
      "342502298@qq.com\n",
      "\n",
      "342502298\n",
      "745212473@qq.com\n",
      "\n",
      "745212473\n",
      "243164773@qq.com\n",
      "\n",
      "243164773\n",
      "327677623@qq.com\n",
      "\n",
      "327677623\n",
      "29120026@qq.com\n",
      "\n",
      "zjsygdtc520@vip.qq.com\n",
      "\n",
      "405582897@qq.com\n",
      "\n",
      "405582897\n",
      "275524332@qq.com\n",
      "\n",
      "275524332\n",
      "624681934@qq.com\n",
      "\n",
      "624681934\n",
      "61811831@qq.com\n",
      "\n",
      "670927480@qq.com\n",
      "\n",
      "670927480\n",
      "389945046@qq.com\n",
      "\n",
      "389945046\n",
      "526556712@qq.com\n",
      "\n",
      "526556712\n",
      "460060@qq.com\n",
      "\n",
      "584631186@qq.com\n",
      "\n",
      "584631186\n",
      "isnows@vip.qq.com\n",
      "\n",
      "liangzai1119@qq.com\n",
      "\n",
      "liaoyuhui8888@qq.com\n",
      "\n",
      "liaoxianwei0105@qq.com\n",
      "\n",
      "348156780@qq.com\n",
      "\n",
      "348156780\n",
      "qiandanping@qq.com\n",
      "\n",
      "370284956@qq.com\n",
      "\n",
      "370284956\n",
      "394840477@qq.com\n",
      "\n",
      "394840477\n",
      "860457343@qq.com\n",
      "\n",
      "860457343\n",
      "181369183@qq.com\n",
      "\n",
      "181369183\n",
      "706308976@qq.com\n",
      "\n",
      "706308976\n",
      "dj8601802@qq.com\n",
      "\n",
      "dj8601802\n",
      "403376908@qq.com\n",
      "\n",
      "403376908\n",
      "82919976@qq.com\n",
      "\n",
      "455080378@qq.com\n",
      "\n",
      "455080378\n",
      "517177095@qq.com\n",
      "\n",
      "517177095\n",
      "641571923@qq.com\n",
      "\n",
      "641571923\n",
      "253121268@qq.com\n",
      "\n",
      "253121268\n",
      "380616871@qq.com\n",
      "\n",
      "380616871\n",
      "346190942@qq.com\n",
      "\n",
      "346190942\n",
      "541254625@qq.com\n",
      "\n",
      "541254625\n",
      "258890861@qq.com\n",
      "\n",
      "258890861\n",
      "390026357@qq.com\n",
      "\n",
      "390026357\n",
      "452135811@qq.com\n",
      "\n",
      "452135811\n",
      "502233506@qq.com\n",
      "\n",
      "502233506\n",
      "455797063@qq.com\n",
      "\n",
      "455797063\n",
      "710811181@qq.com\n",
      "\n",
      "710811181\n",
      "liaozhijun19880530@qq.com\n",
      "\n",
      "415078905@qq.com\n",
      "\n",
      "415078905\n",
      "450518335@qq.com\n",
      "\n",
      "450518335\n",
      "45173681@qq.com\n",
      "\n",
      "12543456@qq.com\n",
      "\n",
      "www.872725656@qq.com\n",
      "\n",
      "331371824@qq.com\n",
      "\n",
      "331371824\n",
      "441488869@qq.com\n",
      "\n",
      "441488869\n",
      "414091302@qq.com\n",
      "\n",
      "414091302\n",
      "691117212@qq.com\n",
      "\n",
      "691117212\n",
      "276776251@qq.com\n",
      "\n",
      "276776251\n",
      "417554787@qq.com\n",
      "\n",
      "417554787\n",
      "tonghaomail@qq.com\n",
      "\n",
      "7698689@qq.com\n",
      "\n",
      "yan5811358@qq.com\n",
      "\n",
      "314478419@qq.com\n",
      "\n",
      "314478419\n",
      "472864@qq.com\n",
      "\n",
      "156418296@qq.com\n",
      "\n",
      "156418296\n",
      "151313705@qq.com\n",
      "\n",
      "151313705\n",
      "qerjh@qq.com\n",
      "\n",
      "410473586@qq.com\n",
      "\n",
      "410473586\n",
      "1037799195@qq.com\n",
      "\n",
      "weiyuanhot@vip.qq.com\n",
      "\n",
      "296176922@qq.com\n",
      "\n",
      "296176922\n",
      "14781415@qq.com\n",
      "\n",
      "94455051@qq.com\n",
      "\n",
      "jijij@qq.com\n",
      "\n",
      "www.894374213@qq.com\n",
      "\n",
      "807059207@qq.com\n",
      "\n",
      "807059207\n",
      "248613535@qq.com\n",
      "\n",
      "248613535\n",
      "764604460@qq.com\n",
      "\n",
      "764604460\n",
      "30949171@qq.com\n",
      "\n",
      "670368690@qq.com\n",
      "\n",
      "670368690\n",
      "ggwudi15801572467@qq.com\n",
      "\n",
      "ljkads@qq.com\n",
      "\n",
      "68566676@qq.com\n",
      "\n",
      "583163550@qq.com\n",
      "\n",
      "583163550\n",
      "550877985@qq.com\n",
      "\n",
      "550877985\n",
      "313686104@qq.com\n",
      "\n",
      "313686104\n",
      "amimoon@qq.com\n",
      "\n",
      "332970952@qq.com\n",
      "\n",
      "332970952\n",
      "1045671096@qq.com\n",
      "\n",
      "123324346534@qq.com\n",
      "\n",
      "huangxinliang@162.qq.com\n",
      "\n",
      "290918162@qq.com\n",
      "\n",
      "290918162\n",
      "424469003@qq.com\n",
      "\n",
      "424469003\n",
      "1004018737@qq.com\n",
      "\n",
      "422900934@qq.com\n",
      "\n",
      "422900934\n",
      "351575379@qq.com\n",
      "\n",
      "351575379\n",
      "251655463@qq.com\n",
      "\n",
      "251655463\n",
      "worimafana@qq.com\n",
      "\n",
      "934395319@qq.com\n",
      "\n",
      "934395319\n",
      "444159050@qq.com\n",
      "\n",
      "444159050\n",
      "kangwenlong1994@qq.com\n",
      "\n",
      "sdasdbn@qq.com\n",
      "\n",
      "448398186@qq.com\n",
      "\n",
      "448398186\n",
      "66343989@qq.com\n",
      "\n",
      "353237850@qq.com\n",
      "\n",
      "353237850\n",
      "841531107@qq.com\n",
      "\n",
      "841531107\n",
      "365821883@qq.com\n",
      "\n",
      "365821883\n",
      "79524520@qq.com\n",
      "\n",
      "597921645@qq.com\n",
      "\n",
      "597921645\n",
      "363537981@qq.com\n",
      "\n",
      "363537981\n",
      "285498856@qq.com\n",
      "\n",
      "285498856\n",
      "770617772@qq.com\n",
      "\n",
      "770617772\n",
      "51449355@.qq.com\n",
      "\n",
      "123561948@qq.com\n",
      "\n",
      "123561948\n",
      "672806391@qq.com\n",
      "\n",
      "672806391\n",
      "fbfyyh@qq.com\n",
      "\n",
      "565443279@qq.com\n",
      "\n",
      "565443279\n",
      "445666592@qq.com\n",
      "\n",
      "445666592\n",
      "422927863@qq.com\n",
      "\n",
      "422927863\n",
      "599091376@qq.com\n",
      "\n",
      "599091376\n",
      "tonykobe24@qq.com\n",
      "\n",
      "15719431@qq.com\n",
      "\n",
      "mxk179123@vip.qq.com\n",
      "\n",
      "mxk179123\n",
      "848219423@qq.com\n",
      "\n",
      "848219423\n",
      "67080828@qq.com\n",
      "\n",
      "wanyukan@qq.com\n",
      "\n",
      "gzgyylf586168@qq.com\n",
      "\n",
      "530224798@qq.com\n",
      "\n",
      "530224798\n",
      "429428388@qq.com\n",
      "\n",
      "429428388\n",
      "45646@qq.com\n",
      "\n",
      "318294453@qq.com\n",
      "\n",
      "318294453\n",
      "775007168@qq.com\n",
      "\n",
      "775007168\n",
      "348370984@qq.com\n",
      "\n",
      "348370984\n",
      "734496345@qq.com\n",
      "\n",
      "734496345\n",
      "359521140@qq.com\n",
      "\n",
      "359521140\n",
      "20901534@qq.com\n",
      "\n",
      "dfsfhgdsgts@qq.com\n",
      "\n",
      "568210945@qq.com\n",
      "\n",
      "568210945\n",
      "309415328@qq.com\n",
      "\n",
      "309415328\n",
      "393440322@qq.com\n",
      "\n",
      "393440322\n",
      "399585822@qq.com\n",
      "\n",
      "399585822\n",
      "61200199@qq.com\n",
      "\n",
      "971334753@qq.com\n",
      "\n",
      "971334753\n",
      "626340508@qq.com\n",
      "\n",
      "626340508\n",
      "811130312@qq.com\n",
      "\n",
      "811130312\n",
      "262972670@qq.com\n",
      "\n",
      "262972670\n",
      "640950151@qq.com\n",
      "\n",
      "640950151\n",
      "245601384@qq.com\n",
      "\n",
      "245601384\n",
      "582295521@qq.com\n",
      "\n",
      "582295521\n",
      "356122162@qq.com\n",
      "\n",
      "356122162\n",
      "99081661@qq.com\n",
      "\n",
      "535006798@qq.com\n",
      "\n",
      "535006798\n",
      "156451277@qq.com\n",
      "\n",
      "156451277\n",
      "83577811@qq.com\n",
      "\n",
      "644328722@qq.com\n",
      "\n",
      "644328722\n",
      "76731914@qq.com\n",
      "\n",
      "77611621@qq.com\n",
      "\n",
      "jjjj@qq.com\n",
      "\n",
      "270098222@qq.com\n",
      "\n",
      "270098222\n",
      "75482345@qq.com\n",
      "\n",
      "www.33021289@qq.com\n",
      "\n",
      "301045744@qq.com\n",
      "\n",
      "301045744\n",
      "279575014@qq.com\n",
      "\n",
      "279575014\n",
      "qscwdv32@qq.com\n",
      "\n",
      "88503772@qq.com\n",
      "\n",
      "349114207@qq.com\n",
      "\n",
      "349114207\n",
      "269247311@qq.com\n",
      "\n",
      "269247311\n",
      "273175703@qq.com\n",
      "\n",
      "273175703\n",
      "SHW-shihongwei@qq.com\n",
      "\n",
      "394838506@qq.com\n",
      "\n",
      "394838506\n",
      "383454931@qq.com\n",
      "\n",
      "383454931\n",
      "379098250@qq.com\n",
      "\n",
      "379098250\n",
      "529786640@qq.com\n",
      "\n",
      "529786640\n",
      "794052235@qq.com\n",
      "\n",
      "794052235\n",
      "330376262@qq.com\n",
      "\n",
      "330376262\n",
      "28774556@qq.com\n",
      "\n",
      "59720094@qq.com\n",
      "\n",
      "4181444@qq.com\n",
      "\n",
      "389639163@qq.com\n",
      "\n",
      "389639163\n",
      "635616742@qq.com\n",
      "\n",
      "635616742\n",
      "542068218@qq.com\n",
      "\n",
      "542068218\n",
      "zxqcw@vip.qq.com\n",
      "\n",
      "zhouyingda8@qq.com\n",
      "\n",
      "550746852@qq.com\n",
      "\n",
      "550746852\n",
      "441967457@qq.com\n",
      "\n",
      "441967457\n",
      "952390090@qq.com\n",
      "\n",
      "952390090\n",
      "362012861@qq.com\n",
      "\n",
      "362012861\n",
      "49649507@qq.com\n",
      "\n",
      "624369211@qq.com\n",
      "\n",
      "624369211\n",
      "435407413@qq.com\n",
      "\n",
      "435407413\n",
      "wanglei0723@qq.com\n",
      "\n",
      "450489958@qq.com\n",
      "\n",
      "450489958\n",
      "412766834@qq.com\n",
      "\n",
      "412766834\n",
      "82307493@vip.qq.com\n",
      "\n",
      "381222694@qq.com\n",
      "\n",
      "381222694\n",
      "12541652@qq.com\n",
      "\n",
      "317667345@qq.com\n",
      "\n",
      "317667345\n",
      "452396217@qq.com\n",
      "\n",
      "452396217\n",
      "905972008@qq.com\n",
      "\n",
      "905972008\n",
      "joitt6t@qq.com\n",
      "\n",
      "277676908@qq.com\n",
      "\n"
     ]
    },
    {
     "name": "stdout",
     "output_type": "stream",
     "text": [
      "277676908\n",
      "616100662@qq.com\n",
      "\n",
      "616100662\n",
      "16197555@qq.com\n",
      "\n",
      "1012621799@qq.com\n",
      "\n",
      "djzjh@vip.qq.com\n",
      "\n",
      "258016467@qq.com\n",
      "\n",
      "258016467\n",
      "www.lifenyu@qq.com\n",
      "\n",
      "305241789@qq.com\n",
      "\n",
      "305241789\n",
      "378572841@qq.com\n",
      "\n",
      "378572841\n",
      "475315698@qq.com\n",
      "\n",
      "475315698\n",
      "270888541@qq.com\n",
      "\n",
      "270888541\n",
      "19308517@qq.com\n",
      "\n",
      "57015787@qq.com\n",
      "\n",
      "785244762@qq.com\n",
      "\n",
      "785244762\n",
      "15633926@qq.com\n",
      "\n",
      "100900770@qq.com\n",
      "\n",
      "100900770\n",
      "543422355@.qq.com\n",
      "\n",
      "543422355\n",
      "937060660@qq.com\n",
      "\n",
      "937060660\n",
      "794939585@qq.com\n",
      "\n",
      "794939585\n",
      "ewrgtyh@qq.com\n",
      "\n",
      "394091050@qq.com\n",
      "\n",
      "394091050\n",
      "449425048@qq.com\n",
      "\n",
      "449425048\n",
      "star1130@vip.qq.com\n",
      "\n",
      "123@qq.com\n",
      "\n",
      "26323251@qq.com\n",
      "\n",
      "58251621@qq.com\n",
      "\n",
      "1281495@qq.com\n",
      "\n",
      "514598504@qq.com\n",
      "\n",
      "514598504\n",
      "367195437@qq.com\n",
      "\n",
      "367195437\n",
      "747773319@qq.com\n",
      "\n",
      "747773319\n",
      "xuetubao520@qq.com\n",
      "\n",
      "2857922352@qq.com\n",
      "\n",
      "746976907@qq.com\n",
      "\n",
      "746976907\n",
      "350912216@qq.com\n",
      "\n",
      "350912216\n",
      "116225146@qq.com\n",
      "\n",
      "116225146\n",
      "276390802@qq.com\n",
      "\n",
      "276390802\n",
      "48403409@qq.com\n",
      "\n",
      "120888496@qq.com\n",
      "\n",
      "120888496\n",
      "305204846@qq.com\n",
      "\n",
      "305204846\n",
      "515483150@qq.com\n",
      "\n",
      "515483150\n",
      "461805026@qq.com\n",
      "\n",
      "461805026\n",
      "3199157@qq.com\n",
      "\n",
      "16668544@qq.com\n",
      "\n",
      "10@qq.com\n",
      "\n",
      "450996664@qq.com\n",
      "\n",
      "450996664\n",
      "634523913@qq.com\n",
      "\n",
      "634523913\n",
      "549465003@qq.com\n",
      "\n",
      "549465003\n",
      "584392918@qq.com\n",
      "\n",
      "584392918\n",
      "949401610@qq.com\n",
      "\n",
      "949401610\n",
      "418657549@qq.com\n",
      "\n",
      "418657549\n",
      "603326380@qq.com\n",
      "\n",
      "603326380\n",
      "454116395@qq.com\n",
      "\n",
      "454116395\n",
      "lzl13017174028@qq.com\n",
      "\n",
      "272215711@qq.com\n",
      "\n",
      "272215711\n",
      "759493293@qq.com\n",
      "\n",
      "759493293\n",
      "865599902@qq.com\n",
      "\n",
      "865599902\n",
      "95507066@qq.com\n",
      "\n",
      "345160088@qq.com\n",
      "\n",
      "345160088\n",
      "120028158@qq.com\n",
      "\n",
      "120028158\n",
      "358016108@qq.com\n",
      "\n",
      "358016108\n",
      "337800829@qq.com\n",
      "\n",
      "337800829\n",
      "aini19871001@qq.com\n",
      "\n",
      "654067762@qq.com\n",
      "\n",
      "654067762\n",
      "809254451@qq.com\n",
      "\n",
      "809254451\n",
      "492109171@qq.com\n",
      "\n",
      "492109171\n",
      "6524178@qq.com\n",
      "\n",
      "52874521@qq.com\n",
      "\n",
      "505799097@qq.com\n",
      "\n",
      "505799097\n",
      "624310277@qq.com\n",
      "\n",
      "624310277\n",
      "492609164@qq.com\n",
      "\n",
      "492609164\n",
      "wenle6970@vip.qq.com\n",
      "\n",
      "wenle6970\n",
      "408931866@qq.com\n",
      "\n",
      "408931866\n",
      "356901390@qq.com\n",
      "\n",
      "356901390\n",
      "576854128@qq.com\n",
      "\n",
      "576854128\n",
      "395457269@qq.com\n",
      "\n",
      "395457269\n",
      "liuxiaoming99@qq.com\n",
      "\n",
      "cai441422@vip.qq.com\n",
      "\n",
      "cai441422\n",
      "moumoushui520@qq.com\n",
      "\n",
      "401574531@qq.com\n",
      "\n",
      "401574531\n",
      "1052827140@qq.com\n",
      "\n",
      "461701429@qq.com\n",
      "\n",
      "461701429\n",
      "morning_2006@qq.com\n",
      "\n",
      "410862039@qq.com\n",
      "\n",
      "410862039\n",
      "305905155@qq.com\n",
      "\n",
      "305905155\n",
      "149823171@qq.com\n",
      "\n",
      "149823171\n",
      "362054737@qq.com\n",
      "\n",
      "362054737\n",
      "191553014@qq.com\n",
      "\n",
      "191553014\n",
      "349878132@qq.com\n",
      "\n",
      "349878132\n",
      "yudawei_278029366@qq.com\n",
      "\n",
      "578162780@qq.com\n",
      "\n",
      "578162780\n",
      "enrl@qq.com\n",
      "\n",
      "278533406@qq.com\n",
      "\n",
      "278533406\n",
      "561927342@qq.com\n",
      "\n",
      "561927342\n",
      "maomao1314@qq.com\n",
      "\n",
      "106062417@qq.com\n",
      "\n",
      "106062417\n",
      "339817552@qq.com\n",
      "\n",
      "339817552\n",
      "837174671@qq.com\n",
      "\n",
      "837174671\n",
      "595774867@qq.com\n",
      "\n",
      "595774867\n",
      "247469654@qq.com\n",
      "\n",
      "247469654\n",
      "672459569@qq.com\n",
      "\n",
      "672459569\n",
      "490735532@qq.com\n",
      "\n",
      "490735532\n",
      "464083615@qq.com\n",
      "\n",
      "464083615\n",
      "379416045@qq.com\n",
      "\n",
      "379416045\n",
      "56601087@qq.com\n",
      "\n",
      "505089150@qq.com\n",
      "\n",
      "505089150\n",
      "627914744@qq.com\n",
      "\n",
      "627914744\n",
      "78869700@qq.com\n",
      "\n",
      "453341222@qq.com\n",
      "\n",
      "453341222\n",
      "315531180@qq.com\n",
      "\n",
      "315531180\n",
      "897289516@qq.com\n",
      "\n",
      "897289516\n",
      "1059846791@qq.com\n",
      "\n",
      "568398632@qq.com\n",
      "\n",
      "568398632\n",
      "82896470@qq.com\n",
      "\n",
      "eric.chan@vip.qq.com\n",
      "\n",
      "eric.chan\n",
      "357006255@qq.com\n",
      "\n",
      "357006255\n",
      "523905904@qq.com\n",
      "\n",
      "523905904\n",
      "mr_0048@qq.com\n",
      "\n",
      "790571765@qq.com\n",
      "\n",
      "790571765\n",
      "344974501@qq.com\n",
      "\n",
      "344974501\n",
      "465724834@qq.com\n",
      "\n",
      "465724834\n",
      "xuyouvip@qq.com\n",
      "\n",
      "563952348@qq.com\n",
      "\n",
      "563952348\n",
      "195106434@qq.com\n",
      "\n",
      "195106434\n",
      "kuhooid@vip.qq.com\n",
      "\n",
      "309198946@qq.com\n",
      "\n",
      "309198946\n",
      "951892520@qq.com\n",
      "\n",
      "951892520\n",
      "53661578@qq.com.cn\n",
      "\n",
      "290388130@qq.com\n",
      "\n",
      "290388130\n",
      "woaityc110@qq.com\n",
      "\n",
      "550553668@qq.com\n",
      "\n",
      "550553668\n",
      "64532780@qq.com\n",
      "\n",
      "pandean@vip.qq.com\n",
      "\n",
      "laokunwudi@qq.com\n",
      "\n",
      "chenzhiyu239@qq.com\n",
      "\n",
      "521049346@qq.com\n",
      "\n",
      "521049346\n",
      "824376670@qq.com\n",
      "\n",
      "824376670\n",
      "77544379@qq.com\n",
      "\n",
      "283509772@qq.com\n",
      "\n",
      "283509772\n",
      "45907944@qq.com\n",
      "\n",
      "546012314@qq.com\n",
      "\n",
      "546012314\n",
      "395444830@qq.com\n",
      "\n",
      "395444830\n",
      "www.841447979@qq.com\n",
      "\n",
      "463638469@qq.com\n",
      "\n",
      "463638469\n",
      "383853039@qq.com\n",
      "\n",
      "383853039\n",
      "44152618@qq.com\n",
      "\n",
      "qiuzeli2008@vip.qq.com\n",
      "\n",
      "52642326@qq.com\n",
      "\n",
      "7283334@qq.com\n",
      "\n",
      "476187332@qq.com\n",
      "\n",
      "476187332\n",
      "523275419@qq.com\n",
      "\n",
      "523275419\n",
      "444605337@qq.com\n",
      "\n",
      "444605337\n",
      "821937666@qq.com\n",
      "\n",
      "821937666\n",
      "54680173@qq.com\n",
      "\n",
      "447529322@qq.com\n",
      "\n",
      "447529322\n",
      "358428949@qq.com\n",
      "\n",
      "358428949\n",
      "228905428@qq.com\n",
      "\n",
      "228905428\n",
      "381063216@qq.com\n",
      "\n",
      "381063216\n",
      "364571610@qq.com\n",
      "\n",
      "364571610\n",
      "27858735@qq.com\n",
      "\n",
      "591521431@qq.com\n",
      "\n",
      "591521431\n"
     ]
    }
   ],
   "source": [
    "path='C:/Users/jing/Desktop/XINJIAN/xinjian/mail.txt'\n",
    "with open(file=path,mode='r') as f:\n",
    "    for i in range(1000):\n",
    "        line=f.readline()\n",
    "        print(line)\n",
    "        a=line[0:10]\n",
    "        if a [-1]==\"@\":\n",
    "            print(a[0:9])\n",
    "        "
   ]
  },
  {
   "cell_type": "code",
   "execution_count": 35,
   "metadata": {},
   "outputs": [],
   "source": [
    "path='C:/Users/jing/Desktop/XINJIAN/xinjian/mail.txt'\n",
    "with open(file=path,mode='r') as f:\n",
    "    for i in range(1000):\n",
    "        line=f.readline()\n",
    "        if line.find('1557100022') !=-1:\n",
    "            print(line)"
   ]
  },
  {
   "cell_type": "markdown",
   "metadata": {},
   "source": [
    "## 链接运算符 + 和复制运算符 *\n",
    "- \\+ 链接多个字符串，同时''.join()也是\n",
    "- \\* 复制多个字符串"
   ]
  },
  {
   "cell_type": "markdown",
   "metadata": {},
   "source": [
    "## in 和 not in 运算符\n",
    "- in :判断某个字符是否在字符串内 \n",
    "- not in ：判断某个字符是否不在字符串内\n",
    "- 返回的是布尔值"
   ]
  },
  {
   "cell_type": "code",
   "execution_count": 14,
   "metadata": {},
   "outputs": [
    {
     "data": {
      "text/plain": [
       "True"
      ]
     },
     "execution_count": 14,
     "metadata": {},
     "output_type": "execute_result"
    }
   ],
   "source": [
    "'J' in 'JOKER'"
   ]
  },
  {
   "cell_type": "code",
   "execution_count": 15,
   "metadata": {},
   "outputs": [
    {
     "data": {
      "text/plain": [
       "False"
      ]
     },
     "execution_count": 15,
     "metadata": {},
     "output_type": "execute_result"
    }
   ],
   "source": [
    "'J' not in'Joker'"
   ]
  },
  {
   "cell_type": "code",
   "execution_count": 27,
   "metadata": {},
   "outputs": [
    {
     "data": {
      "text/plain": [
       "True"
      ]
     },
     "execution_count": 27,
     "metadata": {},
     "output_type": "execute_result"
    }
   ],
   "source": [
    "'hjk' in 'hjklin'\n"
   ]
  },
  {
   "cell_type": "markdown",
   "metadata": {},
   "source": [
    "## 比较字符串\n",
    "-  ==, !=, >=, <=, >, <\n",
    "- 依照ASCII码值进行比较"
   ]
  },
  {
   "cell_type": "code",
   "execution_count": 16,
   "metadata": {},
   "outputs": [
    {
     "data": {
      "text/plain": [
       "False"
      ]
     },
     "execution_count": 16,
     "metadata": {},
     "output_type": "execute_result"
    }
   ],
   "source": [
    "'a'>'b'"
   ]
  },
  {
   "cell_type": "code",
   "execution_count": 126,
   "metadata": {},
   "outputs": [
    {
     "data": {
      "text/plain": [
       "'97'"
      ]
     },
     "execution_count": 126,
     "metadata": {},
     "output_type": "execute_result"
    }
   ],
   "source": [
    "a='9'\n",
    "b='7'\n",
    "a+b"
   ]
  },
  {
   "cell_type": "code",
   "execution_count": 11,
   "metadata": {},
   "outputs": [
    {
     "data": {
      "text/plain": [
       "'ab'"
      ]
     },
     "execution_count": 11,
     "metadata": {},
     "output_type": "execute_result"
    }
   ],
   "source": [
    "a='a'\n",
    "b='b'\n",
    "a+b"
   ]
  },
  {
   "cell_type": "code",
   "execution_count": 12,
   "metadata": {},
   "outputs": [
    {
     "data": {
      "text/plain": [
       "'aaaaaaaaaa'"
      ]
     },
     "execution_count": 12,
     "metadata": {},
     "output_type": "execute_result"
    }
   ],
   "source": [
    "a='a'\n",
    "a*10"
   ]
  },
  {
   "cell_type": "code",
   "execution_count": 13,
   "metadata": {},
   "outputs": [
    {
     "data": {
      "text/plain": [
       "'J*o*k*e*r'"
      ]
     },
     "execution_count": 13,
     "metadata": {},
     "output_type": "execute_result"
    }
   ],
   "source": [
    "\"*\".join('Joker')"
   ]
  },
  {
   "cell_type": "code",
   "execution_count": null,
   "metadata": {},
   "outputs": [],
   "source": [
    "str强制转换换"
   ]
  },
  {
   "cell_type": "markdown",
   "metadata": {},
   "source": [
    "## 测试字符串\n",
    "![](../Photo/99.png)\n",
    "- 注意：\n",
    "> - isalnum() 中是不能包含空格，否则会返回False"
   ]
  },
  {
   "cell_type": "code",
   "execution_count": null,
   "metadata": {},
   "outputs": [],
   "source": [
    "必考"
   ]
  },
  {
   "cell_type": "code",
   "execution_count": 17,
   "metadata": {},
   "outputs": [
    {
     "data": {
      "text/plain": [
       "True"
      ]
     },
     "execution_count": 17,
     "metadata": {},
     "output_type": "execute_result"
    }
   ],
   "source": [
    "a='Joker'\n",
    "a.isalnum()"
   ]
  },
  {
   "cell_type": "code",
   "execution_count": 20,
   "metadata": {},
   "outputs": [
    {
     "data": {
      "text/plain": [
       "True"
      ]
     },
     "execution_count": 20,
     "metadata": {},
     "output_type": "execute_result"
    }
   ],
   "source": [
    "a='Joker789'\n",
    "a.isalnum()"
   ]
  },
  {
   "cell_type": "code",
   "execution_count": 18,
   "metadata": {},
   "outputs": [
    {
     "data": {
      "text/plain": [
       "True"
      ]
     },
     "execution_count": 18,
     "metadata": {},
     "output_type": "execute_result"
    }
   ],
   "source": [
    "a='Joker'\n",
    "a.isalpha()"
   ]
  },
  {
   "cell_type": "code",
   "execution_count": 19,
   "metadata": {},
   "outputs": [
    {
     "data": {
      "text/plain": [
       "False"
      ]
     },
     "execution_count": 19,
     "metadata": {},
     "output_type": "execute_result"
    }
   ],
   "source": [
    "a='123Joker'\n",
    "a.isalpha()"
   ]
  },
  {
   "cell_type": "code",
   "execution_count": 21,
   "metadata": {},
   "outputs": [],
   "source": [
    "N1=0#大写\n",
    "N2=1#小写\n",
    "N3=2#数字\n",
    "def hhh(aaa):\n",
    "    if len(aaa)<=8:\n",
    "        print('密码必须大于8')\n",
    "    for i in aaa:\n",
    "        if i.isupper():\n",
    "            N1 += 1\n",
    "        if i.islower():\n",
    "            N2 += 1\n",
    "        if i.isdigit():\n",
    "            N3 += 1\n",
    "    if N1==0：\n",
    "        print('密码必须有大写')\n",
    "    if N2==0：\n",
    "        print('密码必须有小写')"
   ]
  },
  {
   "cell_type": "code",
   "execution_count": 23,
   "metadata": {},
   "outputs": [
    {
     "name": "stdout",
     "output_type": "stream",
     "text": [
      "QQ\n"
     ]
    }
   ],
   "source": [
    "hhh('23467ghjbnkj')"
   ]
  },
  {
   "cell_type": "code",
   "execution_count": 24,
   "metadata": {},
   "outputs": [
    {
     "name": "stdout",
     "output_type": "stream",
     "text": [
      "QQ\n"
     ]
    }
   ],
   "source": [
    "hhh('1234567889')"
   ]
  },
  {
   "cell_type": "markdown",
   "metadata": {},
   "source": [
    "## 搜索子串\n",
    "![](../Photo/100.png)"
   ]
  },
  {
   "cell_type": "code",
   "execution_count": 12,
   "metadata": {},
   "outputs": [
    {
     "data": {
      "text/plain": [
       "1"
      ]
     },
     "execution_count": 12,
     "metadata": {},
     "output_type": "execute_result"
    }
   ],
   "source": [
    "v='jkiud'\n",
    "v.count('k')"
   ]
  },
  {
   "cell_type": "code",
   "execution_count": 13,
   "metadata": {},
   "outputs": [
    {
     "data": {
      "text/plain": [
       "3"
      ]
     },
     "execution_count": 13,
     "metadata": {},
     "output_type": "execute_result"
    }
   ],
   "source": [
    "d='sdfhhhhff'\n",
    "d.count('f')"
   ]
  },
  {
   "cell_type": "code",
   "execution_count": 9,
   "metadata": {},
   "outputs": [
    {
     "data": {
      "text/plain": [
       "0"
      ]
     },
     "execution_count": 9,
     "metadata": {},
     "output_type": "execute_result"
    }
   ],
   "source": [
    "a='hujki'\n",
    "a.find('h')"
   ]
  },
  {
   "cell_type": "code",
   "execution_count": 11,
   "metadata": {},
   "outputs": [
    {
     "data": {
      "text/plain": [
       "3"
      ]
     },
     "execution_count": 11,
     "metadata": {},
     "output_type": "execute_result"
    }
   ],
   "source": [
    "a='hujki'\n",
    "a.find('k')"
   ]
  },
  {
   "cell_type": "code",
   "execution_count": 10,
   "metadata": {},
   "outputs": [
    {
     "data": {
      "text/plain": [
       "-1"
      ]
     },
     "execution_count": 10,
     "metadata": {},
     "output_type": "execute_result"
    }
   ],
   "source": [
    "a='hujki'\n",
    "a.find('y')"
   ]
  },
  {
   "cell_type": "code",
   "execution_count": 2,
   "metadata": {},
   "outputs": [
    {
     "data": {
      "text/plain": [
       "True"
      ]
     },
     "execution_count": 2,
     "metadata": {},
     "output_type": "execute_result"
    }
   ],
   "source": [
    "a='T'\n",
    "b='than'\n",
    "b.endswith('n')"
   ]
  },
  {
   "cell_type": "code",
   "execution_count": 41,
   "metadata": {},
   "outputs": [
    {
     "data": {
      "text/plain": [
       "2"
      ]
     },
     "execution_count": 41,
     "metadata": {},
     "output_type": "execute_result"
    }
   ],
   "source": [
    "a='YJUHg'\n",
    "a.rfind('U')"
   ]
  },
  {
   "cell_type": "markdown",
   "metadata": {},
   "source": [
    "## 转换字符串\n",
    "![](../Photo/101.png)"
   ]
  },
  {
   "cell_type": "code",
   "execution_count": 44,
   "metadata": {},
   "outputs": [
    {
     "data": {
      "text/plain": [
       "'Liu Li '"
      ]
     },
     "execution_count": 44,
     "metadata": {},
     "output_type": "execute_result"
    }
   ],
   "source": [
    "a='liu li '\n",
    "a.title()"
   ]
  },
  {
   "cell_type": "code",
   "execution_count": 45,
   "metadata": {},
   "outputs": [
    {
     "data": {
      "text/plain": [
       "'ZS yu IOA'"
      ]
     },
     "execution_count": 45,
     "metadata": {},
     "output_type": "execute_result"
    }
   ],
   "source": [
    "v='zs YU ioa'\n",
    "v.swapcase()"
   ]
  },
  {
   "cell_type": "markdown",
   "metadata": {},
   "source": [
    "## 删除字符串\n",
    "![](../Photo/146.png)"
   ]
  },
  {
   "cell_type": "code",
   "execution_count": 46,
   "metadata": {},
   "outputs": [
    {
     "data": {
      "text/plain": [
       "'li  lulu    '"
      ]
     },
     "execution_count": 46,
     "metadata": {},
     "output_type": "execute_result"
    }
   ],
   "source": [
    "s=' li  lulu    '\n",
    "s.lstrip()"
   ]
  },
  {
   "cell_type": "code",
   "execution_count": 47,
   "metadata": {},
   "outputs": [
    {
     "data": {
      "text/plain": [
       "'li  lulu'"
      ]
     },
     "execution_count": 47,
     "metadata": {},
     "output_type": "execute_result"
    }
   ],
   "source": [
    "s=' li  lulu    '\n",
    "s.strip()#括号里没东西删空格，如果有数据咋删出数据"
   ]
  },
  {
   "cell_type": "code",
   "execution_count": 50,
   "metadata": {},
   "outputs": [
    {
     "data": {
      "text/plain": [
       "' li  lu ljhg'"
      ]
     },
     "execution_count": 50,
     "metadata": {},
     "output_type": "execute_result"
    }
   ],
   "source": [
    "s=' li  lu ljhgf'\n",
    "s.strip('f')"
   ]
  },
  {
   "cell_type": "markdown",
   "metadata": {},
   "source": [
    "## 格式化字符串\n",
    "![](../Photo/103.png)"
   ]
  },
  {
   "cell_type": "code",
   "execution_count": 54,
   "metadata": {},
   "outputs": [
    {
     "data": {
      "text/plain": [
       "'   f'"
      ]
     },
     "execution_count": 54,
     "metadata": {},
     "output_type": "execute_result"
    }
   ],
   "source": [
    "'f'.rjust(4)"
   ]
  },
  {
   "cell_type": "code",
   "execution_count": 58,
   "metadata": {},
   "outputs": [
    {
     "data": {
      "text/plain": [
       "'******'"
      ]
     },
     "execution_count": 58,
     "metadata": {},
     "output_type": "execute_result"
    }
   ],
   "source": [
    "a='*'\n",
    "if \n",
    "'******'.center(2)\n",
    "'*'.ljust(0)\n",
    "'*'.rjust(5)\n",
    "'*'.ljust(0)\n",
    "'*'.rjust(5)\n",
    "'*'.ljust(0)\n",
    "'*'.rjust(5)\n",
    "'******'.center(2)"
   ]
  },
  {
   "cell_type": "markdown",
   "metadata": {},
   "source": [
    "## EP:\n",
    "- 1\n",
    "![](../Photo/104.png)\n",
    "- 2 \n",
    "    随机参数100个数字，将www.baidu.com/?page=进行拼接"
   ]
  },
  {
   "cell_type": "code",
   "execution_count": 1,
   "metadata": {},
   "outputs": [
    {
     "data": {
      "text/plain": [
       "'ab'"
      ]
     },
     "execution_count": 1,
     "metadata": {},
     "output_type": "execute_result"
    }
   ],
   "source": [
    "a='a'\n",
    "b='b'\n",
    "a+b"
   ]
  },
  {
   "cell_type": "code",
   "execution_count": 5,
   "metadata": {},
   "outputs": [
    {
     "data": {
      "text/plain": [
       "'ab'"
      ]
     },
     "execution_count": 5,
     "metadata": {},
     "output_type": "execute_result"
    }
   ],
   "source": [
    "a.__add__(b)"
   ]
  },
  {
   "cell_type": "markdown",
   "metadata": {},
   "source": [
    "## Python高级使用方法 -- 字符串\n",
    "- 我们经常使用的方法实际上就是调用Python的运算重载\n",
    "![](../Photo/105.png)"
   ]
  },
  {
   "cell_type": "code",
   "execution_count": 6,
   "metadata": {},
   "outputs": [
    {
     "name": "stdout",
     "output_type": "stream",
     "text": [
      "a\n",
      "n\n",
      "c\n",
      "d\n"
     ]
    }
   ],
   "source": [
    "a='ancd'\n",
    "for i in a:\n",
    "    print(i)"
   ]
  },
  {
   "cell_type": "code",
   "execution_count": 7,
   "metadata": {},
   "outputs": [
    {
     "name": "stdout",
     "output_type": "stream",
     "text": [
      "a\n",
      "n\n",
      "c\n",
      "d\n"
     ]
    }
   ],
   "source": [
    "c='ancd'\n",
    "i=0\n",
    "while i<len(c):\n",
    "    print(c[i])\n",
    "    i=i+1\n",
    "    "
   ]
  },
  {
   "cell_type": "code",
   "execution_count": 58,
   "metadata": {},
   "outputs": [],
   "source": [
    "N1=0#大写\n",
    "N2=0#小写\n",
    "N3=0#数字\n",
    "def hhh(aaa):\n",
    "    if len(aaa)<=8:\n",
    "        print('密码必须大于8')\n",
    "    for i in aaa:\n",
    "        if i.isupper():\n",
    "            N1 += 1\n",
    "        if i.islower():\n",
    "            N2 += 1\n",
    "        if i.isdigit():\n",
    "            N3 += 1\n",
    "    if N1==0:\n",
    "        print('密码必须有大写')\n",
    "    if N2==0:\n",
    "        print('密码必须有小写')\n",
    "    if N3==0:\n",
    "        print('mimayoushizu')"
   ]
  },
  {
   "cell_type": "code",
   "execution_count": 59,
   "metadata": {},
   "outputs": [
    {
     "ename": "UnboundLocalError",
     "evalue": "local variable 'N3' referenced before assignment",
     "output_type": "error",
     "traceback": [
      "\u001b[1;31m---------------------------------------------------------------------------\u001b[0m",
      "\u001b[1;31mUnboundLocalError\u001b[0m                         Traceback (most recent call last)",
      "\u001b[1;32m<ipython-input-59-ccd154964825>\u001b[0m in \u001b[0;36m<module>\u001b[1;34m\u001b[0m\n\u001b[1;32m----> 1\u001b[1;33m \u001b[0mhhh\u001b[0m\u001b[1;33m(\u001b[0m\u001b[1;34m'3457gynji'\u001b[0m\u001b[1;33m)\u001b[0m\u001b[1;33m\u001b[0m\u001b[1;33m\u001b[0m\u001b[0m\n\u001b[0m",
      "\u001b[1;32m<ipython-input-58-5fe6e98e95cf>\u001b[0m in \u001b[0;36mhhh\u001b[1;34m(aaa)\u001b[0m\n\u001b[0;32m     11\u001b[0m             \u001b[0mN2\u001b[0m \u001b[1;33m+=\u001b[0m \u001b[1;36m1\u001b[0m\u001b[1;33m\u001b[0m\u001b[1;33m\u001b[0m\u001b[0m\n\u001b[0;32m     12\u001b[0m         \u001b[1;32mif\u001b[0m \u001b[0mi\u001b[0m\u001b[1;33m.\u001b[0m\u001b[0misdigit\u001b[0m\u001b[1;33m(\u001b[0m\u001b[1;33m)\u001b[0m\u001b[1;33m:\u001b[0m\u001b[1;33m\u001b[0m\u001b[1;33m\u001b[0m\u001b[0m\n\u001b[1;32m---> 13\u001b[1;33m             \u001b[0mN3\u001b[0m \u001b[1;33m+=\u001b[0m \u001b[1;36m1\u001b[0m\u001b[1;33m\u001b[0m\u001b[1;33m\u001b[0m\u001b[0m\n\u001b[0m\u001b[0;32m     14\u001b[0m     \u001b[1;32mif\u001b[0m \u001b[0mN1\u001b[0m\u001b[1;33m==\u001b[0m\u001b[1;36m0\u001b[0m\u001b[1;33m:\u001b[0m\u001b[1;33m\u001b[0m\u001b[1;33m\u001b[0m\u001b[0m\n\u001b[0;32m     15\u001b[0m         \u001b[0mprint\u001b[0m\u001b[1;33m(\u001b[0m\u001b[1;34m'密码必须有大写'\u001b[0m\u001b[1;33m)\u001b[0m\u001b[1;33m\u001b[0m\u001b[1;33m\u001b[0m\u001b[0m\n",
      "\u001b[1;31mUnboundLocalError\u001b[0m: local variable 'N3' referenced before assignment"
     ]
    }
   ],
   "source": [
    "hhh('3457gynji')"
   ]
  },
  {
   "cell_type": "markdown",
   "metadata": {},
   "source": [
    "# Homework\n",
    "- 1\n",
    "![](../Photo/106.png)"
   ]
  },
  {
   "cell_type": "code",
   "execution_count": 4,
   "metadata": {},
   "outputs": [],
   "source": [
    "def uumber():\n",
    "    MIMA='123-45-6789'#给定真密码\n",
    "    b=eval(input('请输入社会安全号'))#输入密码\n",
    "    if MIMA==b:#如果两者相等打印Valid否则Invalid\n",
    "        print('Valid SSN')\n",
    "    else:\n",
    "        print('Invalid SSN')"
   ]
  },
  {
   "cell_type": "code",
   "execution_count": 7,
   "metadata": {},
   "outputs": [
    {
     "name": "stdout",
     "output_type": "stream",
     "text": [
      "请输入社会安全号123-45-6789\n",
      "Invalid SSN\n"
     ]
    }
   ],
   "source": [
    "uumber()"
   ]
  },
  {
   "cell_type": "code",
   "execution_count": 8,
   "metadata": {},
   "outputs": [
    {
     "name": "stdout",
     "output_type": "stream",
     "text": [
      "请输入社会安全号234-23-7890\n",
      "Invalid SSN\n"
     ]
    }
   ],
   "source": [
    "uumber()"
   ]
  },
  {
   "cell_type": "markdown",
   "metadata": {},
   "source": [
    "- 2\n",
    "![](../Photo/107.png)"
   ]
  },
  {
   "cell_type": "code",
   "execution_count": 24,
   "metadata": {},
   "outputs": [
    {
     "data": {
      "text/plain": [
       "0"
      ]
     },
     "execution_count": 24,
     "metadata": {},
     "output_type": "execute_result"
    }
   ],
   "source": [
    "a='hujki'\n",
    "a.find('h')"
   ]
  },
  {
   "cell_type": "code",
   "execution_count": 94,
   "metadata": {},
   "outputs": [],
   "source": [
    "def SR():\n",
    "    a=input('请输入一个字符串')#输入两个字符串\n",
    "    b=input('请输入一个字符串')\n",
    "    if a.find(b)==-1:#如果不是子串则返回-1\n",
    "        print('不是子串')\n",
    "    else:\n",
    "        print('是子串')\n",
    "    "
   ]
  },
  {
   "cell_type": "code",
   "execution_count": 96,
   "metadata": {},
   "outputs": [
    {
     "name": "stdout",
     "output_type": "stream",
     "text": [
      "请输入一个字符串'a','d','f','t'\n",
      "请输入一个字符串'a'\n",
      "是子串\n"
     ]
    }
   ],
   "source": [
    "SR()"
   ]
  },
  {
   "cell_type": "code",
   "execution_count": 98,
   "metadata": {},
   "outputs": [
    {
     "name": "stdout",
     "output_type": "stream",
     "text": [
      "请输入一个字符串哼你就是个大傻子\n",
      "请输入一个字符串啦\n",
      "不是子串\n"
     ]
    }
   ],
   "source": [
    "SR()"
   ]
  },
  {
   "cell_type": "markdown",
   "metadata": {},
   "source": [
    "- 3\n",
    "![](../Photo/108.png)"
   ]
  },
  {
   "cell_type": "code",
   "execution_count": 91,
   "metadata": {},
   "outputs": [],
   "source": [
    "n1=0#大写\n",
    "n2=0\n",
    "def Hhh(*aaa):\n",
    "    if len(aaa)<=8:\n",
    "        print('密码必须大于8')#密码大于8\n",
    "    for i in aaa:#在这串密码中，数字自加，字母自加\n",
    "        if i.isalpha():\n",
    "            n1=n1+1\n",
    "        if i.isdigit():\n",
    "            n2=n2+1\n",
    "    if n1==0:#如果为0，则说明密码中没有字母，\n",
    "        print('密码必须有英文字母')\n",
    "    if n2==0 or n2<2:#如果为0,或者小于2，则返回密码中数字必须大于两位，，\n",
    "        print('密码中数字必须大于两位')\n",
    "    if n1==0 and n2<2:#如果n1为0,或者n2小于2，则返回，invalid password，\n",
    "        print('invalid password')\n",
    "    elif n1 !=0 and n2>2:#果n1不为0,或者n2大于2，则返回，valid password\n",
    "        print('valid password')\n",
    "\n"
   ]
  },
  {
   "cell_type": "code",
   "execution_count": 93,
   "metadata": {},
   "outputs": [
    {
     "name": "stdout",
     "output_type": "stream",
     "text": [
      "密码必须大于8\n"
     ]
    },
    {
     "ename": "UnboundLocalError",
     "evalue": "local variable 'n1' referenced before assignment",
     "output_type": "error",
     "traceback": [
      "\u001b[1;31m---------------------------------------------------------------------------\u001b[0m",
      "\u001b[1;31mUnboundLocalError\u001b[0m                         Traceback (most recent call last)",
      "\u001b[1;32m<ipython-input-93-890feb96e88e>\u001b[0m in \u001b[0;36m<module>\u001b[1;34m\u001b[0m\n\u001b[1;32m----> 1\u001b[1;33m \u001b[0mHhh\u001b[0m\u001b[1;33m(\u001b[0m\u001b[1;34m'asd456678gdcds'\u001b[0m\u001b[1;33m)\u001b[0m\u001b[1;33m\u001b[0m\u001b[1;33m\u001b[0m\u001b[0m\n\u001b[0m",
      "\u001b[1;32m<ipython-input-91-e80c854b90da>\u001b[0m in \u001b[0;36mHhh\u001b[1;34m(*aaa)\u001b[0m\n\u001b[0;32m      9\u001b[0m         \u001b[1;32mif\u001b[0m \u001b[0mi\u001b[0m\u001b[1;33m.\u001b[0m\u001b[0misdigit\u001b[0m\u001b[1;33m(\u001b[0m\u001b[1;33m)\u001b[0m\u001b[1;33m:\u001b[0m\u001b[1;33m\u001b[0m\u001b[1;33m\u001b[0m\u001b[0m\n\u001b[0;32m     10\u001b[0m             \u001b[0mn2\u001b[0m\u001b[1;33m=\u001b[0m\u001b[0mn2\u001b[0m\u001b[1;33m+\u001b[0m\u001b[1;36m1\u001b[0m\u001b[1;33m\u001b[0m\u001b[1;33m\u001b[0m\u001b[0m\n\u001b[1;32m---> 11\u001b[1;33m     \u001b[1;32mif\u001b[0m \u001b[0mn1\u001b[0m\u001b[1;33m==\u001b[0m\u001b[1;36m0\u001b[0m\u001b[1;33m:\u001b[0m\u001b[1;33m\u001b[0m\u001b[1;33m\u001b[0m\u001b[0m\n\u001b[0m\u001b[0;32m     12\u001b[0m         \u001b[0mprint\u001b[0m\u001b[1;33m(\u001b[0m\u001b[1;34m'密码必须有英文字母'\u001b[0m\u001b[1;33m)\u001b[0m\u001b[1;33m\u001b[0m\u001b[1;33m\u001b[0m\u001b[0m\n\u001b[0;32m     13\u001b[0m     \u001b[1;32mif\u001b[0m \u001b[0mn2\u001b[0m\u001b[1;33m==\u001b[0m\u001b[1;36m0\u001b[0m\u001b[1;33m:\u001b[0m\u001b[1;33m\u001b[0m\u001b[1;33m\u001b[0m\u001b[0m\n",
      "\u001b[1;31mUnboundLocalError\u001b[0m: local variable 'n1' referenced before assignment"
     ]
    }
   ],
   "source": [
    "Hhh('asd456678gdcds')"
   ]
  },
  {
   "cell_type": "code",
   "execution_count": null,
   "metadata": {},
   "outputs": [],
   "source": []
  },
  {
   "cell_type": "code",
   "execution_count": null,
   "metadata": {},
   "outputs": [],
   "source": []
  },
  {
   "cell_type": "markdown",
   "metadata": {},
   "source": [
    "- 4\n",
    "![](../Photo/109.png)"
   ]
  },
  {
   "cell_type": "code",
   "execution_count": 108,
   "metadata": {},
   "outputs": [],
   "source": [
    "def couuntletters(*ZF):\n",
    "    Dx=0\n",
    "    for i in ZF:\n",
    "        ASCLL = ord(i)\n",
    "        if 65<=ASCLL<=90 and 97<=ASCLL<=122:\n",
    "            Dx=Dx+1\n",
    "    return Dx\n",
    "            "
   ]
  },
  {
   "cell_type": "code",
   "execution_count": 110,
   "metadata": {},
   "outputs": [
    {
     "data": {
      "text/plain": [
       "0"
      ]
     },
     "execution_count": 110,
     "metadata": {},
     "output_type": "execute_result"
    }
   ],
   "source": [
    "couuntletters('a','s','f','g')"
   ]
  },
  {
   "cell_type": "code",
   "execution_count": 105,
   "metadata": {},
   "outputs": [],
   "source": [
    "def couuntletters(*ZF):\n",
    "    Dx=0#初值大写为零\n",
    "    Xx=0#初值\n",
    "    for i in ZF:#在字符串中通过ASCLL判断字母在哪个范围\n",
    "        ASCLL = ord(i)\n",
    "        if 65<=ASCLL<=90:#在这个范围大写自加\n",
    "            Dx=Dx+1\n",
    "        elif 97<=ASCLL<=122:#在这个范围小写自加\n",
    "            Xx=Xx+1\n",
    "        ZIMU=Dx+Xx#大写和小写的和为所有字母数\n",
    "    return ZIMU"
   ]
  },
  {
   "cell_type": "code",
   "execution_count": 106,
   "metadata": {},
   "outputs": [
    {
     "data": {
      "text/plain": [
       "5"
      ]
     },
     "execution_count": 106,
     "metadata": {},
     "output_type": "execute_result"
    }
   ],
   "source": [
    "couuntletters('a','d','f','g','h','3')"
   ]
  },
  {
   "cell_type": "markdown",
   "metadata": {},
   "source": [
    "- 5\n",
    "![](../Photo/110.png)"
   ]
  },
  {
   "cell_type": "code",
   "execution_count": null,
   "metadata": {},
   "outputs": [],
   "source": [
    "def getNumber():\n",
    "    ss=input('输入一个字符串')\n",
    "    for i in ss:\n",
    "        if \n",
    "    "
   ]
  },
  {
   "cell_type": "markdown",
   "metadata": {},
   "source": [
    "- 6\n",
    "![](../Photo/111.png)"
   ]
  },
  {
   "cell_type": "code",
   "execution_count": 107,
   "metadata": {},
   "outputs": [
    {
     "name": "stdout",
     "output_type": "stream",
     "text": [
      "请输入一个字符串's','f,'r','5','j'\n"
     ]
    },
    {
     "data": {
      "text/plain": [
       "\"'j','5','r',f','s'\""
      ]
     },
     "execution_count": 107,
     "metadata": {},
     "output_type": "execute_result"
    }
   ],
   "source": [
    "def reverse():\n",
    "    s=input('请输入一个字符串')#插入一个字符串\n",
    "    return s[::-1]#倒序\n",
    "reverse()"
   ]
  },
  {
   "cell_type": "markdown",
   "metadata": {},
   "source": [
    "- 7\n",
    "![](../Photo/112.png)"
   ]
  },
  {
   "cell_type": "markdown",
   "metadata": {},
   "source": [
    "- 8\n",
    "![](../Photo/113.png)"
   ]
  },
  {
   "cell_type": "code",
   "execution_count": null,
   "metadata": {},
   "outputs": [],
   "source": [
    "def "
   ]
  },
  {
   "cell_type": "markdown",
   "metadata": {},
   "source": [
    "- 9\n",
    "![](../Photo/114.png)"
   ]
  },
  {
   "cell_type": "code",
   "execution_count": 118,
   "metadata": {},
   "outputs": [],
   "source": [
    "class Rectangle:\n",
    "    def __init__(self):\n",
    "        print('我初始化了')\n",
    "    def ck(self):\n",
    "        self.width=eval(input('输入长'))#输入长\n",
    "        self.height=eval(input('输入宽'))#输入宽\n",
    "    def getArea(self):\n",
    "        self.S=self.width*self.height#长方形面积公式长*宽\n",
    "        print('面积是：',self.S)\n",
    "    def getPerimeter(self):\n",
    "        self.F=2*(self.width+self.height)#长方形周长（A+B）*2\n",
    "        print('周长是：',self.F)"
   ]
  },
  {
   "cell_type": "code",
   "execution_count": 119,
   "metadata": {},
   "outputs": [
    {
     "name": "stdout",
     "output_type": "stream",
     "text": [
      "我初始化了\n"
     ]
    }
   ],
   "source": [
    "hhh=Rectangle()"
   ]
  },
  {
   "cell_type": "code",
   "execution_count": 120,
   "metadata": {},
   "outputs": [
    {
     "name": "stdout",
     "output_type": "stream",
     "text": [
      "输入长10\n",
      "输入宽35.5\n"
     ]
    }
   ],
   "source": [
    "hhh.ck()"
   ]
  },
  {
   "cell_type": "code",
   "execution_count": 121,
   "metadata": {},
   "outputs": [
    {
     "name": "stdout",
     "output_type": "stream",
     "text": [
      "面积是： 355.0\n"
     ]
    }
   ],
   "source": [
    "hhh.getArea()"
   ]
  },
  {
   "cell_type": "code",
   "execution_count": 122,
   "metadata": {},
   "outputs": [
    {
     "name": "stdout",
     "output_type": "stream",
     "text": [
      "周长是： 91.0\n"
     ]
    }
   ],
   "source": [
    "hhh.getPerimeter()"
   ]
  },
  {
   "cell_type": "code",
   "execution_count": 123,
   "metadata": {},
   "outputs": [
    {
     "name": "stdout",
     "output_type": "stream",
     "text": [
      "输入长4\n",
      "输入宽5.3\n"
     ]
    }
   ],
   "source": [
    "hhh.ck()"
   ]
  },
  {
   "cell_type": "code",
   "execution_count": 124,
   "metadata": {},
   "outputs": [
    {
     "name": "stdout",
     "output_type": "stream",
     "text": [
      "面积是： 21.2\n"
     ]
    }
   ],
   "source": [
    "hhh.getArea()\n"
   ]
  },
  {
   "cell_type": "code",
   "execution_count": 125,
   "metadata": {},
   "outputs": [
    {
     "name": "stdout",
     "output_type": "stream",
     "text": [
      "周长是： 18.6\n"
     ]
    }
   ],
   "source": [
    "hhh.getPerimeter()"
   ]
  },
  {
   "cell_type": "code",
   "execution_count": null,
   "metadata": {},
   "outputs": [],
   "source": []
  }
 ],
 "metadata": {
  "kernelspec": {
   "display_name": "Python 3",
   "language": "python",
   "name": "python3"
  },
  "language_info": {
   "codemirror_mode": {
    "name": "ipython",
    "version": 3
   },
   "file_extension": ".py",
   "mimetype": "text/x-python",
   "name": "python",
   "nbconvert_exporter": "python",
   "pygments_lexer": "ipython3",
   "version": "3.7.3"
  }
 },
 "nbformat": 4,
 "nbformat_minor": 2
}
