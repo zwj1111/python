{
 "cells": [
  {
   "cell_type": "markdown",
   "metadata": {},
   "source": [
    "# 对象和类\n",
    "- 一个学生，一张桌子，一个圆都是对象\n",
    "- 对象是类的一个实例，你可以创建多个对象，创建类的一个实例过程被称为实例化，\n",
    "- 在Python中对象就是实例，而实例就是对象"
   ]
  },
  {
   "cell_type": "markdown",
   "metadata": {},
   "source": [
    "## 定义类\n",
    "class ClassName:\n",
    "\n",
    "    do something\n",
    "    \n",
    "- class 类的表示与def 一样\n",
    "- 类名最好使用驼峰式\n",
    "- 在Python2中类是需要继承基类object的，在Python中默认继承，可写可不写\n",
    "- 可以将普通代码理解为皮肤，而函数可以理解为内衣，那么类可以理解为外套"
   ]
  },
  {
   "cell_type": "code",
   "execution_count": null,
   "metadata": {},
   "outputs": [],
   "source": [
    "class Joker:\n",
    "    pass#最简单的类，类一定初始化"
   ]
  },
  {
   "cell_type": "code",
   "execution_count": 1,
   "metadata": {},
   "outputs": [],
   "source": [
    "#类必需初始化，使用self，初始化自身\n",
    "#类里面所有函数中的第一个变量不再是参数，而是一个印记\n",
    "#在类中，如果有参数需要多次使用，那么就可以设置为共享参数\n",
    "class Joker:#一点要加冒号\n",
    "    def __inti__(self):\n",
    "        print('我初始化了')"
   ]
  },
  {
   "cell_type": "code",
   "execution_count": 2,
   "metadata": {},
   "outputs": [
    {
     "data": {
      "text/plain": [
       "<__main__.Joker at 0x2448a6946d8>"
      ]
     },
     "execution_count": 2,
     "metadata": {},
     "output_type": "execute_result"
    }
   ],
   "source": [
    "Joker()"
   ]
  },
  {
   "cell_type": "code",
   "execution_count": 11,
   "metadata": {},
   "outputs": [],
   "source": [
    "class Joker:#一点要加冒号\n",
    "    def __inti__(self):\n",
    "        print('我初始化了')\n",
    "    def Print_(self):\n",
    "        print('Joker hahah')"
   ]
  },
  {
   "cell_type": "code",
   "execution_count": 12,
   "metadata": {},
   "outputs": [],
   "source": [
    "huwang = Joker()#()代表直接走初始化函数"
   ]
  },
  {
   "cell_type": "code",
   "execution_count": 7,
   "metadata": {},
   "outputs": [
    {
     "name": "stdout",
     "output_type": "stream",
     "text": [
      "Joker hahah\n"
     ]
    }
   ],
   "source": [
    "huwang.Print_()"
   ]
  },
  {
   "cell_type": "code",
   "execution_count": 17,
   "metadata": {},
   "outputs": [],
   "source": [
    "class Joker:#一点要加冒号\n",
    "    def __inti__(self):\n",
    "        print('我初始化了')\n",
    "    def Print_(self,num1,num2):\n",
    "        return num1+num2"
   ]
  },
  {
   "cell_type": "code",
   "execution_count": 18,
   "metadata": {},
   "outputs": [],
   "source": [
    "huaw=Joker()"
   ]
  },
  {
   "cell_type": "code",
   "execution_count": 19,
   "metadata": {},
   "outputs": [
    {
     "data": {
      "text/plain": [
       "4"
      ]
     },
     "execution_count": 19,
     "metadata": {},
     "output_type": "execute_result"
    }
   ],
   "source": [
    "huaw.Print_(num1=1,num2=3)"
   ]
  },
  {
   "cell_type": "code",
   "execution_count": 11,
   "metadata": {},
   "outputs": [],
   "source": [
    "class Joker:#一点要加冒号\n",
    "    def __init__(self,num1,num2):\n",
    "        print('我初始化了')\n",
    "        self.num1=num1\n",
    "        self.num2=num2\n",
    "        print(self.num1,self.num2)\n",
    "    def Sum(self):\n",
    "        return self.num1+self.num2\n",
    "    def Cheng(self):\n",
    "        return self.num1*self.num2"
   ]
  },
  {
   "cell_type": "code",
   "execution_count": 12,
   "metadata": {},
   "outputs": [
    {
     "name": "stdout",
     "output_type": "stream",
     "text": [
      "我初始化了\n",
      "1 3\n"
     ]
    }
   ],
   "source": [
    "wwww=Joker(num1=1,num2=3)"
   ]
  },
  {
   "cell_type": "code",
   "execution_count": null,
   "metadata": {},
   "outputs": [],
   "source": [
    "www."
   ]
  },
  {
   "cell_type": "code",
   "execution_count": 28,
   "metadata": {},
   "outputs": [],
   "source": [
    "class shu:\n",
    "    def __inti__(self):\n",
    "        print('我初始化了')\n",
    "    def ou(self,jjj):\n",
    "        if jjj%2==0:\n",
    "            print('偶数')\n",
    "        elif jjj%2 !=0:\n",
    "            print('奇数')\n",
    "    def run(self,sss):\n",
    "        if sss%4 == 0and sss %  100!= 0 or sss % 400 == 0:\n",
    "            print('润年')\n",
    "        else:\n",
    "            print('平年')"
   ]
  },
  {
   "cell_type": "code",
   "execution_count": 55,
   "metadata": {},
   "outputs": [],
   "source": [
    "zwj=shu()"
   ]
  },
  {
   "cell_type": "code",
   "execution_count": 31,
   "metadata": {},
   "outputs": [
    {
     "name": "stdout",
     "output_type": "stream",
     "text": [
      "奇数\n"
     ]
    }
   ],
   "source": [
    "zwj.ou(7)"
   ]
  },
  {
   "cell_type": "code",
   "execution_count": 32,
   "metadata": {},
   "outputs": [
    {
     "name": "stdout",
     "output_type": "stream",
     "text": [
      "润年\n"
     ]
    }
   ],
   "source": [
    "zwj.run(2000)"
   ]
  },
  {
   "cell_type": "markdown",
   "metadata": {},
   "source": [
    "## 定义一个不含初始化__init__的简单类\n",
    "class ClassName:\n",
    "\n",
    "    joker = “Home”\n",
    "    \n",
    "    def func():\n",
    "        print('Worker')\n",
    "    \n",
    "- 尽量少使用"
   ]
  },
  {
   "cell_type": "markdown",
   "metadata": {},
   "source": [
    "\n",
    "\n",
    "## 定义一个标准类\n",
    "- __init__ 代表初始化，可以初始化任何动作\n",
    "- 此时类调用要使用()，其中（）可以理解为开始初始化\n",
    "- 初始化内的元素，类中其他的函数可以共享\n",
    "![](../Photo/85.png)"
   ]
  },
  {
   "cell_type": "markdown",
   "metadata": {},
   "source": [
    "- Circle 和 className_ 的第一个区别有 __init__ 这个函数\n",
    "- 。。。。   第二个区别，类中的每一个函数都有self的这个“参数”"
   ]
  },
  {
   "cell_type": "markdown",
   "metadata": {},
   "source": [
    "## 何为self？\n",
    "- self 是指向对象本身的参数\n",
    "- self 只是一个命名规则，其实可以改变的，但是我们约定俗成的是self，也便于理解\n",
    "- 使用了self就可以访问类中定义的成员\n",
    "<img src=\"../Photo/86.png\"></img>"
   ]
  },
  {
   "cell_type": "markdown",
   "metadata": {},
   "source": [
    "## 使用类 Cirlcle"
   ]
  },
  {
   "cell_type": "markdown",
   "metadata": {},
   "source": [
    "## 类的传参\n",
    "- class ClassName:\n",
    "    \n",
    "        def __init__(self, para1,para2...)：\n",
    "            \n",
    "            self.para1 = para1\n",
    "            \n",
    "            self.para2 = para2"
   ]
  },
  {
   "cell_type": "markdown",
   "metadata": {},
   "source": [
    "## EP:\n",
    "- A：定义一个类，类中含有两个功能：\n",
    "    - 1、产生3个随机数，获取最大值\n",
    "    - 2、产生3个随机数，获取最小值\n",
    "- B：定义一个类，（类中函数的嵌套使用）\n",
    "    - 1、第一个函数的功能为：输入一个数字\n",
    "    - 2、第二个函数的功能为：使用第一个函数中得到的数字进行平方处理\n",
    "    - 3、第三个函数的功能为：得到平方处理后的数字 - 原来输入的数字，并打印结果"
   ]
  },
  {
   "cell_type": "code",
   "execution_count": 24,
   "metadata": {},
   "outputs": [],
   "source": [
    "class zax:\n",
    "    def __init__(self):\n",
    "        print('我初始化了')\n",
    "    def SHU(self):\n",
    "        self.zhz=input(eval('输入一个数'))\n",
    "        return self.zhz\n",
    "    def PF(self):\n",
    "        self.pingfang=self.zhz**2\n",
    "        return self.pingfang\n",
    "    def CZ(self):\n",
    "        self.dayin=self.pingfang-self.zhz\n",
    "        return self.dayin"
   ]
  },
  {
   "cell_type": "code",
   "execution_count": 25,
   "metadata": {},
   "outputs": [
    {
     "name": "stdout",
     "output_type": "stream",
     "text": [
      "我初始化了\n"
     ]
    }
   ],
   "source": [
    "zxc=zax()"
   ]
  },
  {
   "cell_type": "code",
   "execution_count": 26,
   "metadata": {},
   "outputs": [
    {
     "ename": "NameError",
     "evalue": "name '输入一个数' is not defined",
     "output_type": "error",
     "traceback": [
      "\u001b[1;31m---------------------------------------------------------------------------\u001b[0m",
      "\u001b[1;31mNameError\u001b[0m                                 Traceback (most recent call last)",
      "\u001b[1;32m<ipython-input-26-2e8555aeed06>\u001b[0m in \u001b[0;36m<module>\u001b[1;34m\u001b[0m\n\u001b[1;32m----> 1\u001b[1;33m \u001b[0mzxc\u001b[0m\u001b[1;33m.\u001b[0m\u001b[0mSHU\u001b[0m\u001b[1;33m(\u001b[0m\u001b[1;33m)\u001b[0m\u001b[1;33m\u001b[0m\u001b[1;33m\u001b[0m\u001b[0m\n\u001b[0m",
      "\u001b[1;32m<ipython-input-24-f58f17725154>\u001b[0m in \u001b[0;36mSHU\u001b[1;34m(self)\u001b[0m\n\u001b[0;32m      3\u001b[0m         \u001b[0mprint\u001b[0m\u001b[1;33m(\u001b[0m\u001b[1;34m'我初始化了'\u001b[0m\u001b[1;33m)\u001b[0m\u001b[1;33m\u001b[0m\u001b[1;33m\u001b[0m\u001b[0m\n\u001b[0;32m      4\u001b[0m     \u001b[1;32mdef\u001b[0m \u001b[0mSHU\u001b[0m\u001b[1;33m(\u001b[0m\u001b[0mself\u001b[0m\u001b[1;33m)\u001b[0m\u001b[1;33m:\u001b[0m\u001b[1;33m\u001b[0m\u001b[1;33m\u001b[0m\u001b[0m\n\u001b[1;32m----> 5\u001b[1;33m         \u001b[0mself\u001b[0m\u001b[1;33m.\u001b[0m\u001b[0mzhz\u001b[0m\u001b[1;33m=\u001b[0m\u001b[0minput\u001b[0m\u001b[1;33m(\u001b[0m\u001b[0meval\u001b[0m\u001b[1;33m(\u001b[0m\u001b[1;34m'输入一个数'\u001b[0m\u001b[1;33m)\u001b[0m\u001b[1;33m)\u001b[0m\u001b[1;33m\u001b[0m\u001b[1;33m\u001b[0m\u001b[0m\n\u001b[0m\u001b[0;32m      6\u001b[0m         \u001b[1;32mreturn\u001b[0m \u001b[0mself\u001b[0m\u001b[1;33m.\u001b[0m\u001b[0mzhz\u001b[0m\u001b[1;33m\u001b[0m\u001b[1;33m\u001b[0m\u001b[0m\n\u001b[0;32m      7\u001b[0m     \u001b[1;32mdef\u001b[0m \u001b[0mPF\u001b[0m\u001b[1;33m(\u001b[0m\u001b[0mself\u001b[0m\u001b[1;33m)\u001b[0m\u001b[1;33m:\u001b[0m\u001b[1;33m\u001b[0m\u001b[1;33m\u001b[0m\u001b[0m\n",
      "\u001b[1;32m<string>\u001b[0m in \u001b[0;36m<module>\u001b[1;34m\u001b[0m\n",
      "\u001b[1;31mNameError\u001b[0m: name '输入一个数' is not defined"
     ]
    }
   ],
   "source": [
    "zxc.SHU()"
   ]
  },
  {
   "cell_type": "code",
   "execution_count": 17,
   "metadata": {},
   "outputs": [],
   "source": [
    "class zax:\n",
    "    def __init__(self):\n",
    "        print('我初始化了')\n",
    "    def func1(self):\n",
    "        self.num=eval(input(' '))\n",
    "        print('输入的数字是：',self.num)\n",
    "    def func2(self):\n",
    "        self.square=self.num**2\n",
    "        print('平方后：',self.square)\n",
    "    def func3(self):\n",
    "        self.cha=self.square-self.num\n",
    "        print('差值：',self.cha)\n",
    "        "
   ]
  },
  {
   "cell_type": "code",
   "execution_count": 18,
   "metadata": {},
   "outputs": [
    {
     "name": "stdout",
     "output_type": "stream",
     "text": [
      "我初始化了\n"
     ]
    }
   ],
   "source": [
    "zyh=zax()"
   ]
  },
  {
   "cell_type": "code",
   "execution_count": 19,
   "metadata": {},
   "outputs": [
    {
     "name": "stdout",
     "output_type": "stream",
     "text": [
      " 3\n",
      "输入的数字是： 3\n"
     ]
    }
   ],
   "source": [
    "zyh.func1()"
   ]
  },
  {
   "cell_type": "code",
   "execution_count": 20,
   "metadata": {},
   "outputs": [
    {
     "name": "stdout",
     "output_type": "stream",
     "text": [
      "平方后： 9\n"
     ]
    }
   ],
   "source": [
    "zyh.func2()"
   ]
  },
  {
   "cell_type": "code",
   "execution_count": null,
   "metadata": {},
   "outputs": [],
   "source": [
    "class Joker:#一点要加冒号\n",
    "    def __init__(self,num1,num2):\n",
    "        print('我初始化了')\n",
    "        self.num1=num1\n",
    "        self.num2=num2\n",
    "        print(self.num1,self.num2)\n",
    "    def Sum(self):\n",
    "        return self.num1+self.num2\n",
    "    def Cheng(self):\n",
    "        return self.num1*self.num2"
   ]
  },
  {
   "cell_type": "code",
   "execution_count": 36,
   "metadata": {},
   "outputs": [],
   "source": [
    "import random"
   ]
  },
  {
   "cell_type": "code",
   "execution_count": 9,
   "metadata": {},
   "outputs": [],
   "source": [
    "class Shu:\n",
    "    def __init__(self):\n",
    "        print('我初始化了')\n",
    "    def ggg(self):\n",
    "        a=random.randint(0,10)\n",
    "        b=random.randint(0,10)\n",
    "        c=random.randint(0,10)\n",
    "        print(a,b,c)\n",
    "        if a>b and b>c:\n",
    "            print(a)\n",
    "        elif a>c and c>b:\n",
    "            print(a)\n",
    "        elif b>a and a>c:\n",
    "            print(b)\n",
    "        elif b>c and c>a:\n",
    "            print(b)\n",
    "        elif c>b and b>a:\n",
    "            print(c)\n",
    "        elif c>a and a>b:\n",
    "            print(c)\n",
    "    def hhh(self):\n",
    "        e=random.randint(0,10)\n",
    "        d=random.randint(0,10)\n",
    "        f=random.randint(0,10)\n",
    "        print(e,d,f)\n",
    "        if a>b and b>c:\n",
    "            print(c)\n",
    "        elif a>c and c>b:\n",
    "            print(b)\n",
    "        elif b>a and a>c:\n",
    "            print(c)\n",
    "        elif b>c and c>a:\n",
    "            print(a)\n",
    "        elif c>b and b>a:\n",
    "            print(a)\n",
    "        elif c>a and a>b:\n",
    "            print(b)"
   ]
  },
  {
   "cell_type": "code",
   "execution_count": 10,
   "metadata": {},
   "outputs": [
    {
     "name": "stdout",
     "output_type": "stream",
     "text": [
      "我初始化了\n"
     ]
    }
   ],
   "source": [
    "vvv=Shu()"
   ]
  },
  {
   "cell_type": "code",
   "execution_count": 70,
   "metadata": {},
   "outputs": [
    {
     "name": "stdout",
     "output_type": "stream",
     "text": [
      "5 10 0\n",
      "10\n"
     ]
    }
   ],
   "source": [
    "vvv.ggg()"
   ]
  },
  {
   "cell_type": "code",
   "execution_count": 60,
   "metadata": {},
   "outputs": [],
   "source": [
    "class shu:\n",
    "    def __inti__(self):\n",
    "        print('我初始化了')\n",
    "    def max_(self):\n",
    "        a=random.randint(0,10)\n",
    "        b=random.randint(0,10)\n",
    "        c=random.randint(0,10)\n",
    "        print(a,b,c)\n",
    "        return max(a,b,c)"
   ]
  },
  {
   "cell_type": "code",
   "execution_count": 63,
   "metadata": {},
   "outputs": [],
   "source": [
    "ddd=shu()"
   ]
  },
  {
   "cell_type": "code",
   "execution_count": 64,
   "metadata": {},
   "outputs": [
    {
     "name": "stdout",
     "output_type": "stream",
     "text": [
      "7 10 1\n"
     ]
    },
    {
     "data": {
      "text/plain": [
       "10"
      ]
     },
     "execution_count": 64,
     "metadata": {},
     "output_type": "execute_result"
    }
   ],
   "source": [
    "ddd.max_()"
   ]
  },
  {
   "cell_type": "code",
   "execution_count": 28,
   "metadata": {},
   "outputs": [],
   "source": [
    "class Shu:\n",
    "    def __init__(self):\n",
    "        print('我初始化了')\n",
    "        self.zh=123\n",
    "        self.miss=123\n",
    "    def ZH(self):\n",
    "        self.zhu=input(eval('输入一个账号：'))\n",
    "    def MM(self):\n",
    "        self.missz=input(eval('输入一个密码：'))\n",
    "    def check(self):\n",
    "        if self.zhu==self.zh and self.miss==self.missz:\n",
    "            print('正确')\n",
    "        else:\n",
    "            print('错误')\n",
    "    def Verify(self):\n",
    "        Vefify_var=123\n",
    "        print('验证码是',Vefify_var)\n",
    "        while 1:\n",
    "            User_Verify=eval(input('请输入验证码'))\n",
    "            if Vefify_var==User_Verify:\n",
    "                print('登录')\n",
    "            else:\n",
    "                print('far')\n",
    "            \n",
    "        "
   ]
  },
  {
   "cell_type": "code",
   "execution_count": null,
   "metadata": {},
   "outputs": [],
   "source": []
  },
  {
   "cell_type": "markdown",
   "metadata": {},
   "source": [
    "## 类的继承\n",
    "- 类的单继承\n",
    "- 类的多继承\n",
    "- 继承标识\n",
    ">  class SonClass(FatherClass):\n",
    "            \n",
    "            def __init__(self):\n",
    "            \n",
    "                FatherClass.__init__(self)"
   ]
  },
  {
   "cell_type": "code",
   "execution_count": 29,
   "metadata": {},
   "outputs": [
    {
     "ename": "SyntaxError",
     "evalue": "invalid character in identifier (<ipython-input-29-d428514b0c08>, line 11)",
     "output_type": "error",
     "traceback": [
      "\u001b[1;36m  File \u001b[1;32m\"<ipython-input-29-d428514b0c08>\"\u001b[1;36m, line \u001b[1;32m11\u001b[0m\n\u001b[1;33m    def b_(self)：\u001b[0m\n\u001b[1;37m                ^\u001b[0m\n\u001b[1;31mSyntaxError\u001b[0m\u001b[1;31m:\u001b[0m invalid character in identifier\n"
     ]
    }
   ],
   "source": [
    "class A:\n",
    "    def __init__(self):\n",
    "        self.a = 'a'\n",
    "    def a_(self):\n",
    "        print('class A')\n",
    "class B(A):\n",
    "    def _init_(self):\n",
    "         A._init_(self)\n",
    "        #告诉A，B即将继承A\n",
    "       # print(self.a)  self.a_\n",
    "    def b_(self)：\n",
    "        print(self.a)\n",
    "        self.a_()"
   ]
  },
  {
   "cell_type": "markdown",
   "metadata": {},
   "source": [
    "## 私有数据域(私有变量，或者私有函数)\n",
    "- 在Python中 变量名或者函数名使用双下划线代表私有  \\__Joker,   def \\__Joker():\n",
    "- 私有数据域不可继承\n",
    "- 私有数据域强制继承   \\__dir__()"
   ]
  },
  {
   "cell_type": "markdown",
   "metadata": {},
   "source": [
    "![](../Photo/87.png)"
   ]
  },
  {
   "cell_type": "markdown",
   "metadata": {},
   "source": [
    "## EP:\n",
    "![](../Photo/88.png)\n",
    "![](../Photo/89.png)\n",
    "![](../Photo/90.png)\n"
   ]
  },
  {
   "cell_type": "markdown",
   "metadata": {},
   "source": [
    "## 类的其他\n",
    "- 类的封装\n",
    "    - 实际上就是将一类功能放在一起，方便未来进行管理\n",
    "- 类的继承（上面已经讲过）\n",
    "- 类的多态\n",
    "    - 包括装饰器：将放在以后处理高级类中教\n",
    "    - 装饰器的好处：当许多类中的函数需要使用同一个功能的时候，那么使用装饰器就会方便许多\n",
    "    - 装饰器是有固定的写法\n",
    "        - 其包括普通装饰器与带参装饰器"
   ]
  },
  {
   "cell_type": "markdown",
   "metadata": {},
   "source": [
    "# Homewor\n",
    "## UML类图可以不用画\n",
    "## UML 实际上就是一个思维图\n",
    "- 1\n",
    "![](../Photo/91.png)"
   ]
  },
  {
   "cell_type": "code",
   "execution_count": 32,
   "metadata": {},
   "outputs": [],
   "source": [
    "class Rectangle:\n",
    "    def __init__(self):\n",
    "        print('我初始化了')\n",
    "        self.width=int(1)#width宽定义为int型\n",
    "        self.height=int(2)#height长定义为int型\n",
    "    def gtlfArea(self):\n",
    "        self.S=self.width*self.height#长方形面积公式长*宽\n",
    "        print('面积是：',self.S)\n",
    "    def gefOerimeter(self):\n",
    "        self.F=2*(self.width+self.height)#长方形周长（A+B）*2\n",
    "        print('周长是：',self.F)"
   ]
  },
  {
   "cell_type": "code",
   "execution_count": 33,
   "metadata": {},
   "outputs": [
    {
     "name": "stdout",
     "output_type": "stream",
     "text": [
      "我初始化了\n"
     ]
    }
   ],
   "source": [
    "zwj=Rectangle()"
   ]
  },
  {
   "cell_type": "code",
   "execution_count": 34,
   "metadata": {},
   "outputs": [
    {
     "name": "stdout",
     "output_type": "stream",
     "text": [
      "面积是： 2\n"
     ]
    }
   ],
   "source": [
    "zwj.gtlfArea()"
   ]
  },
  {
   "cell_type": "code",
   "execution_count": 35,
   "metadata": {},
   "outputs": [
    {
     "name": "stdout",
     "output_type": "stream",
     "text": [
      "周长是： 6\n"
     ]
    }
   ],
   "source": [
    "zwj.gefOerimeter()"
   ]
  },
  {
   "cell_type": "code",
   "execution_count": 44,
   "metadata": {},
   "outputs": [],
   "source": [
    "class Rectangle:\n",
    "    def __init__(self):\n",
    "        print('我初始化了')\n",
    "    def ck(self):\n",
    "        self.width=eval(input('输入长'))#输入长\n",
    "        self.height=eval(input('输入宽'))#输入宽\n",
    "    def gtlfArea(self):\n",
    "        self.S=self.width*self.height#长方形面积公式长*宽\n",
    "        print('面积是：',self.S)\n",
    "    def gefOerimeter(self):\n",
    "        self.F=2*(self.width+self.height)#长方形周长（A+B）*2\n",
    "        print('周长是：',self.F)"
   ]
  },
  {
   "cell_type": "code",
   "execution_count": 45,
   "metadata": {},
   "outputs": [
    {
     "name": "stdout",
     "output_type": "stream",
     "text": [
      "我初始化了\n"
     ]
    }
   ],
   "source": [
    "zww=Rectangle()"
   ]
  },
  {
   "cell_type": "code",
   "execution_count": 46,
   "metadata": {},
   "outputs": [
    {
     "name": "stdout",
     "output_type": "stream",
     "text": [
      "输入长4\n",
      "输入宽40\n"
     ]
    }
   ],
   "source": [
    "zww.ck()"
   ]
  },
  {
   "cell_type": "code",
   "execution_count": 47,
   "metadata": {},
   "outputs": [
    {
     "name": "stdout",
     "output_type": "stream",
     "text": [
      "面积是： 160\n"
     ]
    }
   ],
   "source": [
    "zww.gtlfArea()"
   ]
  },
  {
   "cell_type": "code",
   "execution_count": 48,
   "metadata": {},
   "outputs": [
    {
     "name": "stdout",
     "output_type": "stream",
     "text": [
      "周长是： 88\n"
     ]
    }
   ],
   "source": [
    "zww.gefOerimeter()"
   ]
  },
  {
   "cell_type": "code",
   "execution_count": 49,
   "metadata": {},
   "outputs": [
    {
     "name": "stdout",
     "output_type": "stream",
     "text": [
      "输入长3.5\n",
      "输入宽35.7\n"
     ]
    }
   ],
   "source": [
    "zww.ck()"
   ]
  },
  {
   "cell_type": "code",
   "execution_count": 50,
   "metadata": {},
   "outputs": [
    {
     "name": "stdout",
     "output_type": "stream",
     "text": [
      "面积是： 124.95000000000002\n"
     ]
    }
   ],
   "source": [
    "zww.gtlfArea()"
   ]
  },
  {
   "cell_type": "code",
   "execution_count": 51,
   "metadata": {},
   "outputs": [
    {
     "name": "stdout",
     "output_type": "stream",
     "text": [
      "周长是： 78.4\n"
     ]
    }
   ],
   "source": [
    "zww.gefOerimeter()"
   ]
  },
  {
   "cell_type": "markdown",
   "metadata": {},
   "source": [
    "- 2\n",
    "![](../Photo/92.png)"
   ]
  },
  {
   "cell_type": "code",
   "execution_count": null,
   "metadata": {},
   "outputs": [],
   "source": []
  },
  {
   "cell_type": "markdown",
   "metadata": {},
   "source": [
    "- 3\n",
    "![](../Photo/93.png)"
   ]
  },
  {
   "cell_type": "code",
   "execution_count": 84,
   "metadata": {},
   "outputs": [],
   "source": [
    "class Fan1:\n",
    "    def __init__(self):\n",
    "        print('我初始化了')\n",
    "    def speed(self):\n",
    "        self._slow=int(1)#默认值速度为1\n",
    "        self._medium=int(2)#默认值为2\n",
    "        self._fast=int(3)#默认值速度为3\n",
    "        self._r=int(5)#默认值半径为5\n",
    "        self.C='blue'#默认值蓝色\n",
    "        self.K='false'#默认值关\n",
    "        print('风扇的速度：',self._slow,'半径为：',self._r,'颜色是：',self.C,self.K)       "
   ]
  },
  {
   "cell_type": "code",
   "execution_count": 85,
   "metadata": {},
   "outputs": [
    {
     "name": "stdout",
     "output_type": "stream",
     "text": [
      "我初始化了\n"
     ]
    }
   ],
   "source": [
    "ch=Fan1()"
   ]
  },
  {
   "cell_type": "code",
   "execution_count": 86,
   "metadata": {},
   "outputs": [
    {
     "name": "stdout",
     "output_type": "stream",
     "text": [
      "风扇的速度： 1 半径为： 5 颜色是： blue false\n"
     ]
    }
   ],
   "source": [
    "ch.speed()"
   ]
  },
  {
   "cell_type": "code",
   "execution_count": 87,
   "metadata": {},
   "outputs": [
    {
     "name": "stdout",
     "output_type": "stream",
     "text": [
      "我初始化了\n",
      "风扇的速度： 3 半径为： 10 颜色是： yellow 开\n"
     ]
    }
   ],
   "source": [
    "class Fan2:\n",
    "    def __init__(self):\n",
    "        print('我初始化了')\n",
    "    def speed(self):\n",
    "        self._slow=int(3)#默认值\n",
    "        self._medium=int(2)#默认值\n",
    "        self._fast=int(3)#默认值\n",
    "        self._r=int(10)#默认值\n",
    "        self.C='yellow'#默认值\n",
    "        self.K='开'#默认值\n",
    "        print('风扇的速度：',self._slow,'半径为：',self._r,'颜色是：',self.C,self.K)\n",
    "ch=Fan2()\n",
    "ch.speed()"
   ]
  },
  {
   "cell_type": "code",
   "execution_count": 88,
   "metadata": {},
   "outputs": [
    {
     "name": "stdout",
     "output_type": "stream",
     "text": [
      "我初始化了\n",
      "风扇的速度： 2 半径为： 5 颜色是： blue 关闭\n"
     ]
    }
   ],
   "source": [
    "class Fan3:\n",
    "    def __init__(self):\n",
    "        print('我初始化了')\n",
    "    def speed(self):\n",
    "        self._slow=int(2)\n",
    "        self._medium=int(2)\n",
    "        self._fast=int(3)\n",
    "        self._r=int(5)\n",
    "        self.C='blue'\n",
    "        self.K='关闭'\n",
    "        print('风扇的速度：',self._slow,'半径为：',self._r,'颜色是：',self.C,self.K)\n",
    "ch=Fan3()\n",
    "ch.speed()       "
   ]
  },
  {
   "cell_type": "markdown",
   "metadata": {},
   "source": [
    "- 4\n",
    "![](../Photo/94.png)\n",
    "![](../Photo/95.png)"
   ]
  },
  {
   "cell_type": "code",
   "execution_count": 52,
   "metadata": {},
   "outputs": [],
   "source": [
    "import math"
   ]
  },
  {
   "cell_type": "code",
   "execution_count": 63,
   "metadata": {},
   "outputs": [],
   "source": [
    "class RegularPolygon:\n",
    "    def __init__(self):\n",
    "        print('我初始化了')\n",
    "        self.__n=int(3)#默认值\n",
    "        self.__side=float(1)#默认值\n",
    "        self.__x=float(0)#默认值\n",
    "        self.__y=float(0)#默认值\n",
    "    def getPerimeter(self):\n",
    "        self.__C=self.__n*self.__side#周长边长*边数\n",
    "        print(self.__n,'边形周长：',self.__C)\n",
    "    def getArea(self):\n",
    "        self.__Area=(self.__n*(self.__side**2))/4*math.tan(math.pi/self.__n)#面积\n",
    "        print(self.__n,'边形面积：',self.__Area)"
   ]
  },
  {
   "cell_type": "code",
   "execution_count": 64,
   "metadata": {},
   "outputs": [
    {
     "name": "stdout",
     "output_type": "stream",
     "text": [
      "我初始化了\n"
     ]
    }
   ],
   "source": [
    "lma=RegularPolygon()"
   ]
  },
  {
   "cell_type": "code",
   "execution_count": 65,
   "metadata": {},
   "outputs": [
    {
     "name": "stdout",
     "output_type": "stream",
     "text": [
      "3 边形周长： 3.0\n"
     ]
    }
   ],
   "source": [
    "lma.getPerimeter()"
   ]
  },
  {
   "cell_type": "code",
   "execution_count": 66,
   "metadata": {},
   "outputs": [
    {
     "name": "stdout",
     "output_type": "stream",
     "text": [
      "3 边形面积： 1.2990381056766576\n"
     ]
    }
   ],
   "source": [
    "lma.getArea()"
   ]
  },
  {
   "cell_type": "code",
   "execution_count": 73,
   "metadata": {},
   "outputs": [],
   "source": [
    "class RegularPolygon:\n",
    "    def __init__(self):\n",
    "        print('我初始化了')   \n",
    "    def Zhi(self):\n",
    "        self.n=eval(input('多边形边数：'))#输入边数\n",
    "        self.side=eval(input('输入长度'))#输入边长\n",
    "        self.x=eval(input('输入x值'))#输入x值\n",
    "        self.y=eval(input('输入y值'))#输入y值\n",
    "    def getPerimeter(self):\n",
    "        self.C=self.n*self.side#周长\n",
    "        print('周长是：',self.C)\n",
    "    def getArea(self):\n",
    "        self.S=(self.n*(self.side**2))/4*math.tan(math.pi/self.n)#面积\n",
    "        print('面积是：',self.S)\n",
    "        \n"
   ]
  },
  {
   "cell_type": "code",
   "execution_count": 74,
   "metadata": {},
   "outputs": [
    {
     "name": "stdout",
     "output_type": "stream",
     "text": [
      "我初始化了\n"
     ]
    }
   ],
   "source": [
    "lmi=RegularPolygon()"
   ]
  },
  {
   "cell_type": "code",
   "execution_count": 75,
   "metadata": {},
   "outputs": [
    {
     "name": "stdout",
     "output_type": "stream",
     "text": [
      "多边形边数：6\n",
      "输入长度4\n",
      "输入x值0\n",
      "输入y值0\n"
     ]
    }
   ],
   "source": [
    "lmi.Zhi()"
   ]
  },
  {
   "cell_type": "code",
   "execution_count": 76,
   "metadata": {},
   "outputs": [
    {
     "name": "stdout",
     "output_type": "stream",
     "text": [
      "周长是： 24\n"
     ]
    }
   ],
   "source": [
    "lmi.getPerimeter()"
   ]
  },
  {
   "cell_type": "code",
   "execution_count": 77,
   "metadata": {},
   "outputs": [
    {
     "name": "stdout",
     "output_type": "stream",
     "text": [
      "面积是： 13.856406460551018\n"
     ]
    }
   ],
   "source": [
    "lmi.getArea()"
   ]
  },
  {
   "cell_type": "markdown",
   "metadata": {},
   "source": [
    "- 5\n",
    "![](../Photo/96.png)"
   ]
  },
  {
   "cell_type": "code",
   "execution_count": 120,
   "metadata": {},
   "outputs": [],
   "source": [
    "class LinearEquation:\n",
    "    def __init__(self):\n",
    "        print('初始化')\n",
    "    def get(self):\n",
    "        self.a=eval(input('输入a值'))#输入abcdef的值\n",
    "        self.b=eval(input('输入b值'))\n",
    "        self.c=eval(input('输入c值'))\n",
    "        self.d=eval(input('输入d值'))\n",
    "        self.e=eval(input('输入e值'))\n",
    "        self.f=eval(input('输入f值'))\n",
    "    def FC(self):\n",
    "        A=self.e*self.d-self.b*self.f#根据公式得到\n",
    "        B=self.a*self.d-self.b*self.c\n",
    "        C=self.a*self.f-self.e*self.c\n",
    "        if B==0:#如果分母得零方程无解，分母不得零，解除xy\n",
    "            print('方程无解')\n",
    "        elif B!=0:\n",
    "            self.x=A/B\n",
    "            self.y=C/B\n",
    "            print('X=',round(self.x,2),'Y=',round(self.y,2))"
   ]
  },
  {
   "cell_type": "code",
   "execution_count": 115,
   "metadata": {},
   "outputs": [
    {
     "name": "stdout",
     "output_type": "stream",
     "text": [
      "初始化\n"
     ]
    }
   ],
   "source": [
    "wj=LinearEquation()"
   ]
  },
  {
   "cell_type": "code",
   "execution_count": 116,
   "metadata": {},
   "outputs": [
    {
     "name": "stdout",
     "output_type": "stream",
     "text": [
      "输入a值2\n",
      "输入b值2\n",
      "输入c值3\n",
      "输入d值3\n",
      "输入e值5\n",
      "输入f值6\n"
     ]
    }
   ],
   "source": [
    "wj.get()"
   ]
  },
  {
   "cell_type": "code",
   "execution_count": 117,
   "metadata": {},
   "outputs": [
    {
     "name": "stdout",
     "output_type": "stream",
     "text": [
      "方程无解\n"
     ]
    }
   ],
   "source": [
    "wj.FC()"
   ]
  },
  {
   "cell_type": "code",
   "execution_count": 122,
   "metadata": {},
   "outputs": [
    {
     "name": "stdout",
     "output_type": "stream",
     "text": [
      "输入a值3\n",
      "输入b值4\n",
      "输入c值2\n",
      "输入d值1\n",
      "输入e值8\n",
      "输入f值5\n"
     ]
    }
   ],
   "source": [
    "wj.get()"
   ]
  },
  {
   "cell_type": "code",
   "execution_count": 123,
   "metadata": {},
   "outputs": [
    {
     "name": "stdout",
     "output_type": "stream",
     "text": [
      "X= 2.4 Y= 0.2\n"
     ]
    }
   ],
   "source": [
    "wj.FC()"
   ]
  },
  {
   "cell_type": "markdown",
   "metadata": {},
   "source": [
    "- 6\n",
    "![](../Photo/97.png)"
   ]
  },
  {
   "cell_type": "code",
   "execution_count": 138,
   "metadata": {},
   "outputs": [],
   "source": [
    "class LinearEquation:\n",
    "    def __init__(self):\n",
    "        print('我初始化了')\n",
    "    def ck(self):\n",
    "        self.x1,self.y1,self.x2,self.y2=eval(input('Enter the endpooints of the first line segment:'))#输入第一条直线的两个端点\n",
    "        self.x3,self.y3,self.x4,self.y4=eval(input('Enter the endpooints of the second line segment:'))#输入第二条直线的两个端点\n",
    "    def xian(self):\n",
    "        self.Lk1=(self.y2-self.y1)/(self.x2-self.x1)#第一条直线斜率\n",
    "        self.Lb1=(1/2)*(self.y1+self.y2-((self.y1-self.y2)*(self.x1-self.x2))/(self.x1-self.x2))#第一条直线截距\n",
    "        self.Lk2=(self.y4-self.y3)/(self.x4-self.x3)#第二条直线的斜率\n",
    "        self.Lb2=(1/2)*(self.y4+self.y3-((self.y4-self.y3)*(self.x4-self.x3))/(self.x4-self.x3))#第二条直线截距\n",
    "        print('第一条直线斜率为',self.Lk1,'第一条直线截距为',self.Lb1)\n",
    "        print('第二条直线斜率为',self.Lk2,'第二条直线截距为',self.Lb2)\n",
    "    def jiaodian(self):\n",
    "        self.X=(self.Lb2-self.Lb1)/(self.Lk1-self.Lk2)#两条直线的交点横坐标\n",
    "        self.Y=self.Lk1*((self.Lb2-self.Lb1)/(self.Lk1-self.Lk2))+self.Lb1#两条直线交点的横坐标\n",
    "        print('The intersecting point is',self.X,self.Y)"
   ]
  },
  {
   "cell_type": "code",
   "execution_count": 139,
   "metadata": {},
   "outputs": [
    {
     "name": "stdout",
     "output_type": "stream",
     "text": [
      "我初始化了\n"
     ]
    }
   ],
   "source": [
    "zaw=LinearEquation()"
   ]
  },
  {
   "cell_type": "code",
   "execution_count": 140,
   "metadata": {},
   "outputs": [
    {
     "name": "stdout",
     "output_type": "stream",
     "text": [
      "Enter the endpooints of the first line segment:2,2,0,0\n",
      "Enter the endpooints of the second line segment:0,2,2,0\n"
     ]
    }
   ],
   "source": [
    "zaw.ck()"
   ]
  },
  {
   "cell_type": "code",
   "execution_count": 141,
   "metadata": {},
   "outputs": [
    {
     "name": "stdout",
     "output_type": "stream",
     "text": [
      "第一条直线斜率为 1.0 第一条直线截距为 0.0\n",
      "第二条直线斜率为 -1.0 第二条直线截距为 2.0\n"
     ]
    }
   ],
   "source": [
    "zaw.xian()"
   ]
  },
  {
   "cell_type": "code",
   "execution_count": 142,
   "metadata": {},
   "outputs": [
    {
     "name": "stdout",
     "output_type": "stream",
     "text": [
      "The intersecting point is 1.0 1.0\n"
     ]
    }
   ],
   "source": [
    "zaw.jiaodian()"
   ]
  },
  {
   "cell_type": "markdown",
   "metadata": {},
   "source": [
    "- 7\n",
    "![](../Photo/98.png)"
   ]
  }
 ],
 "metadata": {
  "kernelspec": {
   "display_name": "Python 3",
   "language": "python",
   "name": "python3"
  },
  "language_info": {
   "codemirror_mode": {
    "name": "ipython",
    "version": 3
   },
   "file_extension": ".py",
   "mimetype": "text/x-python",
   "name": "python",
   "nbconvert_exporter": "python",
   "pygments_lexer": "ipython3",
   "version": "3.7.3"
  }
 },
 "nbformat": 4,
 "nbformat_minor": 2
}
