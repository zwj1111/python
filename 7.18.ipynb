{
 "cells": [
  {
   "cell_type": "markdown",
   "metadata": {},
   "source": [
    "# 选择\n",
    "## 布尔类型、数值和表达式\n",
    "![](../Photo/33.png)\n",
    "- 注意：比较运算符的相等是两个等号，一个等到代表赋值\n",
    "- 在Python中可以用整型0来代表False，其他数字来代表True\n",
    "- 后面还会讲到 is 在判断语句中的用发"
   ]
  },
  {
   "cell_type": "markdown",
   "metadata": {},
   "source": [
    "## 字符串的比较使用ASCII值"
   ]
  },
  {
   "cell_type": "markdown",
   "metadata": {},
   "source": [
    "## Markdown \n",
    "- https://github.com/younghz/Markdown"
   ]
  },
  {
   "cell_type": "markdown",
   "metadata": {},
   "source": [
    "## EP:\n",
    "- <img src=\"../Photo/34.png\"></img>\n",
    "- 输入一个数字，判断其实奇数还是偶数"
   ]
  },
  {
   "cell_type": "code",
   "execution_count": 9,
   "metadata": {},
   "outputs": [
    {
     "name": "stdout",
     "output_type": "stream",
     "text": [
      "输入一个数7\n",
      "7 是奇数\n"
     ]
    }
   ],
   "source": [
    "a=eval(input('输入一个数'))\n",
    "if a%2==0:\n",
    "  print(a,'是偶数')\n",
    "else:\n",
    " print(a,'是奇数')\n",
    "   "
   ]
  },
  {
   "cell_type": "code",
   "execution_count": 1,
   "metadata": {},
   "outputs": [
    {
     "name": "stdout",
     "output_type": "stream",
     "text": [
      "输入一个数6\n",
      "6 是偶数\n",
      "运行完毕\n"
     ]
    }
   ],
   "source": [
    "a=eval(input('输入一个数'))\n",
    "if a%2==0:\n",
    "  print(a,'是偶数')\n",
    "else:\n",
    " print(a,'是奇数')\n",
    "print('运行完毕')"
   ]
  },
  {
   "cell_type": "code",
   "execution_count": 11,
   "metadata": {},
   "outputs": [
    {
     "name": "stdout",
     "output_type": "stream",
     "text": [
      "数9\n",
      "奇数\n"
     ]
    }
   ],
   "source": [
    "a=eval(input('数'))\n",
    "if  not bool(a%2):\n",
    "    print('偶数')\n",
    "else:\n",
    "    print('奇数')"
   ]
  },
  {
   "cell_type": "code",
   "execution_count": 2,
   "metadata": {},
   "outputs": [],
   "source": [
    "b1=bool(4)"
   ]
  },
  {
   "cell_type": "markdown",
   "metadata": {},
   "source": [
    "## 产生随机数字\n",
    "- 函数random.randint(a,b) 可以用来产生一个a和b之间且包括a和b的随机整数"
   ]
  },
  {
   "cell_type": "code",
   "execution_count": null,
   "metadata": {},
   "outputs": [],
   "source": []
  },
  {
   "cell_type": "code",
   "execution_count": 1,
   "metadata": {},
   "outputs": [],
   "source": [
    "import random"
   ]
  },
  {
   "cell_type": "markdown",
   "metadata": {},
   "source": [
    "产生一个随机数，你去输入，如果你输入的数大于随机数，那么就告诉你太大了，反之，太小了，\n",
    "然后你一直输入，知道它满意为止"
   ]
  },
  {
   "cell_type": "code",
   "execution_count": 14,
   "metadata": {},
   "outputs": [
    {
     "data": {
      "text/plain": [
       "3"
      ]
     },
     "execution_count": 14,
     "metadata": {},
     "output_type": "execute_result"
    }
   ],
   "source": [
    "random.randint(2,3)"
   ]
  },
  {
   "cell_type": "code",
   "execution_count": 26,
   "metadata": {},
   "outputs": [],
   "source": [
    "d=random.randint(1,10)"
   ]
  },
  {
   "cell_type": "code",
   "execution_count": 27,
   "metadata": {},
   "outputs": [
    {
     "name": "stdout",
     "output_type": "stream",
     "text": [
      "h8\n",
      "太大\n"
     ]
    }
   ],
   "source": [
    "h=eval(input('h'))\n",
    "if h>d:\n",
    " print('太大')\n",
    "if h<d:\n",
    " print('太小')\n",
    "if h==d:\n",
    " print('正确')\n",
    "    \n",
    "\n"
   ]
  },
  {
   "cell_type": "markdown",
   "metadata": {},
   "source": [
    "##  其他random方法\n",
    "- random.random 返回0.0到1.0之间前闭后开区间的随机浮点\n",
    "- random.randrange(a,b) 前闭后开"
   ]
  },
  {
   "cell_type": "code",
   "execution_count": 28,
   "metadata": {},
   "outputs": [
    {
     "data": {
      "text/plain": [
       "0.3731697448719189"
      ]
     },
     "execution_count": 28,
     "metadata": {},
     "output_type": "execute_result"
    }
   ],
   "source": [
    "random.random()"
   ]
  },
  {
   "cell_type": "code",
   "execution_count": 30,
   "metadata": {},
   "outputs": [
    {
     "data": {
      "text/plain": [
       "5"
      ]
     },
     "execution_count": 30,
     "metadata": {},
     "output_type": "execute_result"
    }
   ],
   "source": [
    "random.randrange(0,20)"
   ]
  },
  {
   "cell_type": "markdown",
   "metadata": {},
   "source": [
    "## EP：\n",
    "- 产生两个随机整数number1和number2，然后显示给用户，使用户输入数字的和，并判定其是否正确\n",
    "- 进阶:写一个随机序号点名程序"
   ]
  },
  {
   "cell_type": "code",
   "execution_count": 6,
   "metadata": {},
   "outputs": [
    {
     "name": "stdout",
     "output_type": "stream",
     "text": [
      "3 3\n"
     ]
    }
   ],
   "source": [
    "N=random.randint(2,9)\n",
    "M=random.randint(1,10)\n",
    "print(N,M)"
   ]
  },
  {
   "cell_type": "code",
   "execution_count": 7,
   "metadata": {},
   "outputs": [
    {
     "name": "stdout",
     "output_type": "stream",
     "text": [
      "x_8\n",
      "Error\n"
     ]
    }
   ],
   "source": [
    "x=eval(input('x_'))\n",
    "if x ==(N+M):\n",
    "    print('Correct')\n",
    "else:\n",
    "    print('Error')"
   ]
  },
  {
   "cell_type": "code",
   "execution_count": 8,
   "metadata": {},
   "outputs": [
    {
     "name": "stdout",
     "output_type": "stream",
     "text": [
      "x_8\n",
      "Error\n",
      "x_7\n",
      "Error\n",
      "x_5\n",
      "Error\n",
      "x_9\n",
      "Error\n",
      "x_7\n",
      "Error\n"
     ]
    }
   ],
   "source": [
    "for i in range(5):\n",
    "    x=eval(input('x_'))\n",
    "    if x==(N+M):\n",
    "        print('Correct')\n",
    "        break\n",
    "    else: \n",
    "         print('Error')\n",
    "\n"
   ]
  },
  {
   "cell_type": "code",
   "execution_count": 10,
   "metadata": {},
   "outputs": [
    {
     "name": "stdout",
     "output_type": "stream",
     "text": [
      "x8\n",
      "2 可以整除\n",
      "4 可以整除\n"
     ]
    }
   ],
   "source": [
    "x=eval(input('x'))\n",
    "for i in range(2,x):\n",
    "    if x%i == 0:\n",
    "        print(i,'可以整除')"
   ]
  },
  {
   "cell_type": "markdown",
   "metadata": {},
   "source": [
    "## if语句\n",
    "- 如果条件正确就执行一个单向if语句，亦即当条件为真的时候才执行if内部的语句\n",
    "- Python有很多选择语句:\n",
    "> - 单向if \n",
    "  - 双向if-else\n",
    "  - 嵌套if\n",
    "  - 多向if-elif-else\n",
    "  \n",
    "- 注意：当语句含有子语句的时候，那么一定至少要有一个缩进，也就是说如果有儿子存在，那么一定要缩进\n",
    "- 切记不可tab键和space混用，单用tab 或者 space\n",
    "- 当你输出的结果是无论if是否为真时都需要显示时，语句应该与if对齐"
   ]
  },
  {
   "cell_type": "markdown",
   "metadata": {},
   "source": [
    "## EP：\n",
    "- 用户输入一个数字，判断其实奇数还是偶数\n",
    "- 进阶：可以查看下4.5实例研究猜生日"
   ]
  },
  {
   "cell_type": "markdown",
   "metadata": {},
   "source": [
    "## 双向if-else 语句\n",
    "- 如果条件为真，那么走if内部语句，否则走else内部语句"
   ]
  },
  {
   "cell_type": "code",
   "execution_count": null,
   "metadata": {},
   "outputs": [],
   "source": [
    "if condition:\n",
    "    if con:\n",
    "        do nothing\n",
    "    else:\n",
    "        other\n",
    "    do something\n",
    "else:\n",
    "    other"
   ]
  },
  {
   "cell_type": "code",
   "execution_count": null,
   "metadata": {},
   "outputs": [],
   "source": [
    "a=eval(input('输入一个数'))\n",
    "if a%2==0:\n",
    "  print(a,'是偶数')\n",
    "else:\n",
    " print(a,'是奇数')\n",
    "print('运行完毕')"
   ]
  },
  {
   "cell_type": "code",
   "execution_count": 22,
   "metadata": {},
   "outputs": [
    {
     "name": "stdout",
     "output_type": "stream",
     "text": [
      "是否有钱y/nn\n",
      "帅y/nn\n",
      "家室y/nn\n",
      "滚\n"
     ]
    }
   ],
   "source": [
    "h=input('是否有钱y/n')\n",
    "j=input('帅y/n')\n",
    "lao=input('家室y/n')\n",
    "if h=='y':\n",
    "    print('再问一个问题')\n",
    "    if j=='y':\n",
    "        print('继续OK')\n",
    "        if lao=='n':\n",
    "            print('完全OK')\n",
    "        else:\n",
    "            print('滚蛋')\n",
    "    else:\n",
    "        print('滚')  \n",
    "else:\n",
    "    print('滚')\n",
    "    \n",
    "\n",
    "    \n"
   ]
  },
  {
   "cell_type": "code",
   "execution_count": 12,
   "metadata": {},
   "outputs": [
    {
     "name": "stdout",
     "output_type": "stream",
     "text": [
      "money{y/n}y\n",
      "再问一个问题\n",
      "handsome{y/n}n\n",
      "考虑一下\n"
     ]
    }
   ],
   "source": [
    "money=input('money{y/n}')\n",
    "if money=='y':\n",
    "    print('再问一个问题')\n",
    "    handsome=input('handsome{y/n}')\n",
    "    if handsome=='y':\n",
    "        print('非常关键的问题')\n",
    "        wife=input('wife{y/n}')\n",
    "        if wife=='y':\n",
    "            print('不拒绝')\n",
    "        else:\n",
    "            print('马上结婚')\n",
    "    else:\n",
    "        print('考虑一下')\n",
    "else:\n",
    "    print('滚')\n",
    "        "
   ]
  },
  {
   "cell_type": "markdown",
   "metadata": {},
   "source": [
    "## EP：\n",
    "- 产生两个随机整数number1和number2，然后显示给用户，使用户输入数字，并判定其是否正确,如果正确打印“you‘re correct”，否则打印正确错误"
   ]
  },
  {
   "cell_type": "markdown",
   "metadata": {},
   "source": [
    "## 嵌套if 和多向if-elif-else\n",
    "![](../Photo/35.png)"
   ]
  },
  {
   "cell_type": "code",
   "execution_count": 13,
   "metadata": {},
   "outputs": [
    {
     "name": "stdout",
     "output_type": "stream",
     "text": [
      "A\n"
     ]
    }
   ],
   "source": [
    "score=90\n",
    "if score>=90:\n",
    "    grad='A'\n",
    "elif score>=80:\n",
    "    grad='B'\n",
    "elif score>=70:\n",
    "    gred='C'\n",
    "else:\n",
    "    grad='D'\n",
    "print(grad)    "
   ]
  },
  {
   "cell_type": "code",
   "execution_count": 28,
   "metadata": {},
   "outputs": [
    {
     "name": "stdout",
     "output_type": "stream",
     "text": [
      "money{y/n}y\n",
      "handsome{y/n}y\n",
      "wife{y/n}n\n",
      "考虑\n"
     ]
    }
   ],
   "source": [
    "x1=eval(input('money{y/n}'))\n",
    "x2=eval(input('handsome{y/n}'))\n",
    "x3=eval(input('wife{y/n}'))\n",
    "x=x1+x2+x3\n",
    "if x==0:\n",
    "    print('滚')\n",
    "if x==2:\n",
    "    if x3==0:\n",
    "        print('马上结婚')\n",
    "    else x2==0:\n",
    "        print('考录一下')\n",
    "elif handsome=='y':\n",
    "    print('考虑')\n",
    "elif wife=='y':\n",
    "    print('滚')\n"
   ]
  },
  {
   "cell_type": "code",
   "execution_count": 13,
   "metadata": {},
   "outputs": [
    {
     "name": "stdout",
     "output_type": "stream",
     "text": [
      "money{y/n}y\n",
      "handsome{y/n}n\n",
      "考虑一下\n"
     ]
    }
   ],
   "source": [
    "money=input('money{y/n}')\n",
    "if money=='y':\n",
    "    handsome=input('handsome{y/n}')\n",
    "    if handsome=='y':\n",
    "        wife=input('wife{y/n}')\n",
    "        if wife=='y':\n",
    "            print('原配变')\n",
    "        elif wife=='y':\n",
    "            print('不拒绝')\n",
    "        else:\n",
    "            print('马上结婚')\n",
    "    else:\n",
    "        print('考虑一下')\n",
    "else:\n",
    "    print('滚')\n",
    "        "
   ]
  },
  {
   "cell_type": "markdown",
   "metadata": {},
   "source": [
    "## EP：\n",
    "- 提示用户输入一个年份，然后显示表示这一年的动物\n",
    "![](../Photo/36.png)\n",
    "- 计算身体质量指数的程序\n",
    "- BMI = 以千克为单位的体重除以以米为单位的身高的平方\n",
    "![](../Photo/37.png)"
   ]
  },
  {
   "cell_type": "code",
   "execution_count": 2,
   "metadata": {},
   "outputs": [
    {
     "name": "stdout",
     "output_type": "stream",
     "text": [
      "请输入一个年份1998\n",
      "虎\n"
     ]
    }
   ],
   "source": [
    "year=eval(input('请输入一个年份'))\n",
    "if year%12==0:\n",
    "    nianji='猴'\n",
    "elif year%12==1:\n",
    "    nianji='鸡'\n",
    "elif year%12==2:\n",
    "    nianji='狗'\n",
    "elif year%12==3:\n",
    "    nianji='猪'\n",
    "elif year%12==4:\n",
    "    nianji='鼠'\n",
    "elif year%12==5:\n",
    "    nianji='牛'\n",
    "elif year%12==6:\n",
    "    nianji='虎'\n",
    "elif year%12==7:\n",
    "    nianji='兔'\n",
    "elif year%12==8:\n",
    "    nianji='龙'\n",
    "elif year%12==9:\n",
    "    nianji='蛇'\n",
    "elif year%12==10:\n",
    "    nianji='马'\n",
    "else:\n",
    "    nianji='羊'\n",
    "print(nianji)\n",
    "    "
   ]
  },
  {
   "cell_type": "code",
   "execution_count": null,
   "metadata": {},
   "outputs": [],
   "source": []
  },
  {
   "cell_type": "code",
   "execution_count": 3,
   "metadata": {},
   "outputs": [
    {
     "name": "stdout",
     "output_type": "stream",
     "text": [
      "输入一个体重108\n",
      "身高:171\n",
      "过轻\n"
     ]
    }
   ],
   "source": [
    "tizhong=eval(input('输入一个体重'))\n",
    "shengao=eval(input('身高:'))\n",
    "BMI=tizhong/(shengao*shengao)\n",
    "if BMI<18.5:\n",
    "    h='过轻'\n",
    "elif 18.5<=BMI<25:\n",
    "    h='标准'\n",
    "elif 25<=BMI<30:\n",
    "    h='超重'\n",
    "else:\n",
    "    h='痴肥'\n",
    "print(h)\n"
   ]
  },
  {
   "cell_type": "markdown",
   "metadata": {},
   "source": [
    "## 逻辑运算符\n",
    "![](../Photo/38.png)"
   ]
  },
  {
   "cell_type": "markdown",
   "metadata": {},
   "source": [
    "![](../Photo/39.png)\n",
    "![](../Photo/40.png)"
   ]
  },
  {
   "cell_type": "markdown",
   "metadata": {},
   "source": [
    "## EP：\n",
    "- 判定闰年：一个年份如果能被4整除但不能被100整除，或者能被400整除，那么这个年份就是闰年\n",
    "- 提示用户输入一个年份，并返回是否是闰年\n",
    "- 提示用户输入一个数字，判断其是否为水仙花数"
   ]
  },
  {
   "cell_type": "code",
   "execution_count": 7,
   "metadata": {},
   "outputs": [
    {
     "name": "stdout",
     "output_type": "stream",
     "text": [
      "输入一个年份2008\n",
      "闰年\n"
     ]
    }
   ],
   "source": [
    "year=eval(input('输入一个年份'))\n",
    "if year%4 == 0and year %  100!= 0 or year % 400 == 0:\n",
    "    print('闰年')\n",
    "else:\n",
    "    print('平年')"
   ]
  },
  {
   "cell_type": "code",
   "execution_count": 11,
   "metadata": {},
   "outputs": [
    {
     "name": "stdout",
     "output_type": "stream",
     "text": [
      "输入一个数153\n",
      "水仙花\n"
     ]
    }
   ],
   "source": [
    "xian=eval(input('输入一个数'))\n",
    "if xian==(xian//100)**3+(xian%100//10)**3+(xian%100%10)**3:\n",
    "    print('水仙花')\n",
    "else:\n",
    "    print('不是水仙花')"
   ]
  },
  {
   "cell_type": "code",
   "execution_count": 18,
   "metadata": {},
   "outputs": [
    {
     "name": "stdout",
     "output_type": "stream",
     "text": [
      "153 水仙花\n",
      "370 水仙花\n",
      "371 水仙花\n",
      "407 水仙花\n"
     ]
    }
   ],
   "source": [
    "for xian in range(100,1000):\n",
    "    if xian==(xian//100)**3+(xian%100//10)**3+(xian%100%10)**3:\n",
    "        print(xian,'水仙花')"
   ]
  },
  {
   "cell_type": "markdown",
   "metadata": {},
   "source": [
    "## 实例研究：彩票\n",
    "![](../Photo/41.png)"
   ]
  },
  {
   "cell_type": "code",
   "execution_count": null,
   "metadata": {},
   "outputs": [],
   "source": []
  },
  {
   "cell_type": "markdown",
   "metadata": {},
   "source": [
    "# Homework\n",
    "- 1\n",
    "![](../Photo/42.png)"
   ]
  },
  {
   "cell_type": "code",
   "execution_count": 2,
   "metadata": {},
   "outputs": [
    {
     "name": "stdout",
     "output_type": "stream",
     "text": [
      "a1\n",
      "b3\n",
      "c1\n",
      "The root are -0.3819660112501051 and -2.618033988749895\n",
      "a1\n",
      "b2\n",
      "c1\n",
      "The root is -1.0\n",
      "a1\n",
      "b2\n",
      "c3\n",
      "The equation has no real roots\n"
     ]
    }
   ],
   "source": [
    "for i in range(3):\n",
    "    A=eval(input('a'))\n",
    "    B=eval(input('b'))\n",
    "    C=eval(input('c'))\n",
    "    panbie=B*B-4*A*C\n",
    "    r1=(-B+(B*B-4*A*C)**(1/2))/2*A\n",
    "    r2=(-B-(B*B-4*A*C)**(1/2))/2*A\n",
    "    if panbie>0:\n",
    "        print('The root are',r1,'and',r2 )\n",
    "    elif panbie==0:\n",
    "        print('The root is',r1)\n",
    "    else:\n",
    "        print('The equation has no real roots')\n",
    "    \n"
   ]
  },
  {
   "cell_type": "markdown",
   "metadata": {},
   "source": [
    "- 2\n",
    "![](../Photo/43.png)"
   ]
  },
  {
   "cell_type": "code",
   "execution_count": 5,
   "metadata": {},
   "outputs": [
    {
     "name": "stdout",
     "output_type": "stream",
     "text": [
      "15 2\n"
     ]
    }
   ],
   "source": [
    "zheng=random.randint(0,100)\n",
    "shu=random.randint(0,100)\n",
    "print(zheng,shu)"
   ]
  },
  {
   "cell_type": "code",
   "execution_count": 7,
   "metadata": {},
   "outputs": [
    {
     "name": "stdout",
     "output_type": "stream",
     "text": [
      "和12\n",
      "假\n",
      "和13\n",
      "假\n",
      "和17\n",
      "真\n"
     ]
    }
   ],
   "source": [
    "for i in range(3):\n",
    "    HE=eval(input('和'))\n",
    "    if HE ==(zheng+shu):\n",
    "        print('真')\n",
    "    else:\n",
    "        print('假')"
   ]
  },
  {
   "cell_type": "markdown",
   "metadata": {},
   "source": [
    "- 3\n",
    "![](../Photo/44.png)"
   ]
  },
  {
   "cell_type": "code",
   "execution_count": 1,
   "metadata": {},
   "outputs": [
    {
     "name": "stdout",
     "output_type": "stream",
     "text": [
      "今天属于[0,6]中的数字是1\n",
      "请输入之后的天数3\n",
      "today is Thursday\n",
      "今天属于[0,6]中的数字是0\n",
      "请输入之后的天数31\n",
      "today is Wednesday\n"
     ]
    }
   ],
   "source": [
    "for i in range(2):\n",
    "    jin=eval(input('今天属于[0,6]中的数字是'))\n",
    "    tian=eval(input('请输入之后的天数'))\n",
    "    if (tian-(6-jin))%7-1==1:\n",
    "        print('today is Monday')\n",
    "    elif (tian-(6-jin))%7-1==2:\n",
    "        print('today is Tuesday')\n",
    "    elif (tian-(6-jin))%7-1==3:\n",
    "        print('today is Wednesday')\n",
    "    elif (tian-(6-jin))%7-1==4:\n",
    "        print('today is Thursday')\n",
    "    elif (tian-(6-jin))%7-1==5:\n",
    "        print('today is Firday ')\n",
    "    elif (tian-(6-jin))%7-1==6:\n",
    "        print('today is Saturday')\n",
    "    elif (tian-(6-jin))%7-1==0:\n",
    "        print('today is Sunday') \n",
    "    "
   ]
  },
  {
   "cell_type": "markdown",
   "metadata": {},
   "source": [
    "- 4\n",
    "![](../Photo/45.png)"
   ]
  },
  {
   "cell_type": "code",
   "execution_count": 6,
   "metadata": {},
   "outputs": [
    {
     "name": "stdout",
     "output_type": "stream",
     "text": [
      "第一个整数87\n",
      "第二个整数12\n",
      "第三个整数76\n",
      "排序为: 12 76 87\n"
     ]
    }
   ],
   "source": [
    "one=eval(input('第一个整数'))\n",
    "two=eval(input('第二个整数'))\n",
    "three=eval(input('第三个整数'))\n",
    "if one>two and two>three:\n",
    "    print('排序为:',three,two,one)\n",
    "elif one>three and three>two:\n",
    "    print('排序为:',two,three,one)\n",
    "elif two>one and one>three:\n",
    "    print('排序为:',three,one,two)\n",
    "elif two>three and three>one:\n",
    "    print('排序为:',one,three,two)\n",
    "elif three>one and one>two:\n",
    "    print('排序为:',two,one,three)\n",
    "elif three>two and two>one:\n",
    "    print('排序为:',one,two,three)"
   ]
  },
  {
   "cell_type": "markdown",
   "metadata": {},
   "source": [
    "- 5\n",
    "![](../Photo/46.png)"
   ]
  },
  {
   "cell_type": "code",
   "execution_count": 8,
   "metadata": {},
   "outputs": [
    {
     "name": "stdout",
     "output_type": "stream",
     "text": [
      "第一种包装50,24.59\n",
      "第二种包装25,11.99\n",
      "选择第二个包装\n"
     ]
    }
   ],
   "source": [
    "kg,money=eval(input('第一种包装'))\n",
    "KG,Money=eval(input('第二种包装'))\n",
    "if kg/money>KG/Money:\n",
    "    print('选择第一个包装')\n",
    "elif kg/money<KG/Money:\n",
    "    print('选择第二个包装')\n",
    "elif kg/money==KG/Money:\n",
    "    print('两种包装都可以')\n",
    "\n"
   ]
  },
  {
   "cell_type": "markdown",
   "metadata": {},
   "source": [
    "- 6\n",
    "![](../Photo/47.png)"
   ]
  },
  {
   "cell_type": "code",
   "execution_count": null,
   "metadata": {},
   "outputs": [],
   "source": [
    "nian=eval(input('请输入年'))\n",
    "if nian%4 == 0and nian %  100!= 0 or nian % 400 == 0:\n",
    "    print('闰年')"
   ]
  },
  {
   "cell_type": "code",
   "execution_count": 15,
   "metadata": {},
   "outputs": [
    {
     "name": "stdout",
     "output_type": "stream",
     "text": [
      "请输入年月2000,2\n",
      "2000 年\n",
      "2 月有29天\n"
     ]
    }
   ],
   "source": [
    "nian,yue=eval(input('请输入年月'))\n",
    "if nian%4 == 0and nian %  100!= 0 or nian % 400 == 0:\n",
    "    print(nian,'年')\n",
    "    if yue == 1 or yue ==3 or yue==5 or yue==7 or yue==8 or yue==10 or yue==12:\n",
    "        print(yue,'月有31天')\n",
    "    elif yue == 4 or yue==6 or yue==9 or yue==11: \n",
    "        print(yue,'月有30天')\n",
    "    elif yue == 2:\n",
    "        print(yue,'月有29天')\n",
    "else:\n",
    "    print(nian,'年')     \n",
    "    if yue == 1 or yue==3 or yue==5 or yue==7 or yue==8 or yue==10 or yue==12:\n",
    "        print(yue,'月有31天')\n",
    "    elif yue == 4 or yue==9 or yue==11:\n",
    "        print(yue,'月有30天')\n",
    "    elif yue == 2:\n",
    "        print(yue,'月有28天')\n"
   ]
  },
  {
   "cell_type": "markdown",
   "metadata": {},
   "source": [
    "- 7\n",
    "![](../Photo/48.png)"
   ]
  },
  {
   "cell_type": "code",
   "execution_count": 11,
   "metadata": {},
   "outputs": [
    {
     "name": "stdout",
     "output_type": "stream",
     "text": [
      "我猜测的是[0/1]:1\n",
      "错误\n"
     ]
    }
   ],
   "source": [
    "sui=random.randint(0,1)\n",
    "zheng=eval('1')\n",
    "fan=eval('0')\n",
    "cai=eval(input('我猜测的是[0/1]:'))\n",
    "if cai=='0' and sui==1:\n",
    "    print('错误')\n",
    "elif cai=='0' and sui==0:\n",
    "    print('正确')\n",
    "elif cai=='1' and sui==0:\n",
    "    print('错误')\n",
    "elif cai=='1' and sui==0:\n",
    "    print('错误')"
   ]
  },
  {
   "cell_type": "markdown",
   "metadata": {},
   "source": [
    "- 8\n",
    "![](../Photo/49.png)"
   ]
  },
  {
   "cell_type": "code",
   "execution_count": 2,
   "metadata": {},
   "outputs": [
    {
     "name": "stdout",
     "output_type": "stream",
     "text": [
      "我出的是0/1/2:2\n",
      "The com is rock .you are paper .you are win\n"
     ]
    }
   ],
   "source": [
    "com=random.randint(0,2)\n",
    "paper=eval('2')\n",
    "rock=eval('1')\n",
    "scissor=eval('0')\n",
    "wo=input('我出的是0/1/2:')\n",
    "if wo=='2' and com==paper: \n",
    "    print('The com is paper .you are paper .Tt is a down' )\n",
    "elif wo=='1' and com==rock: \n",
    "    print('The com is paper .you are rock .Tt is a down' )\n",
    "elif wo=='0' and com==scissor: \n",
    "    print('The com is paper .you are paper .Tt is a down' )\n",
    "elif wo=='2' and com==rock:\n",
    "    print('The com is rock .you are paper .you are win' )\n",
    "elif wo=='2' and com==scissor:\n",
    "    print('The com is scissor .you are paper .you are won' )\n",
    "elif wo=='0' and com==rock:\n",
    "    print('The com is rock .you are scissor .you are won' )\n",
    "elif wo=='0' and com==paper:\n",
    "    print('The com is paper .you are scissor .you are win' )\n",
    "elif wo=='1' and com==paper:\n",
    "    print('The com is paper .you are rock .you are won' )\n",
    "elif wo=='1' and com==scissor:\n",
    "    print('The com is scissor .you are rock .you are win' )\n"
   ]
  },
  {
   "cell_type": "markdown",
   "metadata": {},
   "source": [
    "- 9\n",
    "![](../Photo/50.png)"
   ]
  },
  {
   "cell_type": "code",
   "execution_count": 2,
   "metadata": {},
   "outputs": [
    {
     "name": "stdout",
     "output_type": "stream",
     "text": [
      "输入年份2012\n",
      "输入月份13\n",
      "输入这个月某天25\n",
      "Day of the week is firday\n",
      "输入年份2012\n",
      "输入月份5\n",
      "输入这个月某天12\n",
      "Day of the week is saturday\n"
     ]
    }
   ],
   "source": [
    "for i in range(2):\n",
    "    year=eval(input('输入年份'))\n",
    "    month=eval(input('输入月份'))\n",
    "    day=eval(input('输入这个月某天'))\n",
    "    shiji=year//100\n",
    "    mounian=year%100\n",
    "    xingqi=(day+(26*(month+1)//10)+mounian+(mounian//4)+(shiji//4)+5*shiji)%7\n",
    "    if xingqi==0:\n",
    "        print('Day of the week is saturday')\n",
    "    elif xingqi==1:\n",
    "        print('Day of the week is sunday')\n",
    "    elif xingqi==2:\n",
    "        print('Day of the week is monday')\n",
    "    elif xingqi==3:\n",
    "        print('Day of the week is tuesday')\n",
    "    elif xingqi==4:\n",
    "        print('Day of the week is wednesday')\n",
    "    elif xingqi==5:\n",
    "        print('Day of the week is thurday')\n",
    "    elif xingqi==6:\n",
    "        print('Day of the week is firday')\n",
    "\n",
    "        \n",
    "\n",
    "    "
   ]
  },
  {
   "cell_type": "code",
   "execution_count": 18,
   "metadata": {},
   "outputs": [
    {
     "name": "stdout",
     "output_type": "stream",
     "text": [
      "输入年份2015\n",
      "输入月份2\n",
      "输入这个月某天2\n",
      "6\n"
     ]
    }
   ],
   "source": [
    "year=eval(input('输入年份'))\n",
    "month=eval(input('输入月份'))\n",
    "day=eval(input('输入这个月某天'))\n",
    "shiji=year//100\n",
    "mounian=year%100\n",
    "xing=day + 26*(month+1)//10 + mounian + mounian//4 + shiji//4 + 5*shiji\n",
    "xingqi=xing%7\n",
    "print(xingqi)"
   ]
  },
  {
   "cell_type": "markdown",
   "metadata": {},
   "source": [
    "- 10\n",
    "![](../Photo/51.png)"
   ]
  },
  {
   "cell_type": "code",
   "execution_count": 12,
   "metadata": {},
   "outputs": [
    {
     "name": "stdout",
     "output_type": "stream",
     "text": [
      "The card you picked is the 黑桃 of 2\n"
     ]
    }
   ],
   "source": [
    "colour=random.randint(1,4)\n",
    "value=random.randint(1,12)\n",
    "if colour==1:\n",
    "    h='梅花'\n",
    "elif colour==2:\n",
    "    h='红桃'\n",
    "elif colour==3:\n",
    "    h='方块'\n",
    "elif colour==4:\n",
    "    h='黑桃'\n",
    "elif value==1:\n",
    "    value='Ace'\n",
    "elif value==2:\n",
    "    value='2'\n",
    "elif value==3:\n",
    "    value='3'\n",
    "elif value==4:\n",
    "    value='4'\n",
    "elif value==5:\n",
    "    value='5'\n",
    "elif value==6:\n",
    "    value='6'\n",
    "elif value==7:\n",
    "    value='7'\n",
    "elif value==8:\n",
    "    value='8'\n",
    "elif value==9:\n",
    "    value='9'\n",
    "elif value==10:\n",
    "    value='10'\n",
    "elif value==11:\n",
    "    value='Jack'\n",
    "elif value==2:\n",
    "    value='Queen'\n",
    "elif value==2:\n",
    "    value='king'\n",
    "print('The card you picked is the',h,'of',value)    "
   ]
  },
  {
   "cell_type": "markdown",
   "metadata": {},
   "source": [
    "- 11\n",
    "![](../Photo/52.png)"
   ]
  },
  {
   "cell_type": "code",
   "execution_count": 2,
   "metadata": {},
   "outputs": [
    {
     "name": "stdout",
     "output_type": "stream",
     "text": [
      "Enter a three-digit integer:121\n",
      "121 is a palindrom\n",
      "Enter a three-digit integer:123\n",
      "123 is not a palindrom\n"
     ]
    }
   ],
   "source": [
    "for i in range(2):\n",
    "    shu=eval(input('Enter a three-digit integer:'))\n",
    "    if shu==shu%10*100+(shu%100//10)*10+shu//100:\n",
    "        print(shu,'is a palindrom')\n",
    "    else:\n",
    "        print(shu,'is not a palindrom')"
   ]
  },
  {
   "cell_type": "markdown",
   "metadata": {},
   "source": [
    "- 12\n",
    "![](../Photo/53.png)"
   ]
  },
  {
   "cell_type": "code",
   "execution_count": 1,
   "metadata": {},
   "outputs": [
    {
     "name": "stdout",
     "output_type": "stream",
     "text": [
      "Enter three edges:1,1,1\n",
      "The perimeter is 3\n"
     ]
    }
   ],
   "source": [
    "a,b,c=eval(input('Enter three edges:'))\n",
    "perimeter=a+b+c\n",
    "if a+b>c and abs(a-b)<c:\n",
    "    print('The perimeter is',perimeter)\n",
    "else:\n",
    "    print('不是三角形')"
   ]
  }
 ],
 "metadata": {
  "kernelspec": {
   "display_name": "Python 3",
   "language": "python",
   "name": "python3"
  },
  "language_info": {
   "codemirror_mode": {
    "name": "ipython",
    "version": 3
   },
   "file_extension": ".py",
   "mimetype": "text/x-python",
   "name": "python",
   "nbconvert_exporter": "python",
   "pygments_lexer": "ipython3",
   "version": "3.7.3"
  }
 },
 "nbformat": 4,
 "nbformat_minor": 2
}
